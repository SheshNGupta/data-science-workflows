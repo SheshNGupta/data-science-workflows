{
 "cells": [
  {
   "cell_type": "markdown",
   "id": "e2ceaeb0-e282-4c63-97e2-f1dd03810aa2",
   "metadata": {},
   "source": [
    "# What to try in this notebook?\n",
    "\n",
    "#### 1. Get a random number generated dataset from kaggle, use one column and create missing (1%, 5%, 10%), scale values, apply KNN, MEAN imputation. Compare the results and compute mean() and var() for the list of differences between org. and Imputed value \n",
    "\n",
    "Dataset - https://www.kaggle.com/timoboz/random-numbers\n",
    "\n",
    "#### 2. Use a housing dataset from UCI, use one column and create missing (1%, 5%, 10%), scale values, apply KNN, MEAN imputation. Compare the results and compute mean() and var() for the list of differences between org. and Imputed value \n",
    "\n",
    "Dataset - https://github.com/nikbearbrown/AI_Research_Group/blob/main/Awesome-UCI-Datasets/Classification/House_Price_predication/train.csv"
   ]
  },
  {
   "cell_type": "code",
   "execution_count": 101,
   "id": "d8fe4103-6e71-4b97-810c-b599a0482944",
   "metadata": {},
   "outputs": [],
   "source": [
    "import pandas as pd\n",
    "import numpy as np\n",
    "import warnings\n",
    "warnings.filterwarnings('ignore')\n",
    "from sklearn.impute import KNNImputer\n",
    "from sklearn.preprocessing import MinMaxScaler"
   ]
  },
  {
   "cell_type": "markdown",
   "id": "f95427ef-d6bc-47b8-a516-45a05b238180",
   "metadata": {},
   "source": [
    "# 1.1 Random Numbers dataset"
   ]
  },
  {
   "cell_type": "code",
   "execution_count": 102,
   "id": "03fc0415-cdd2-415b-a273-08037b06afcf",
   "metadata": {},
   "outputs": [],
   "source": [
    "random_dataset = pd.read_csv('random_numbers_1000.csv')"
   ]
  },
  {
   "cell_type": "code",
   "execution_count": 103,
   "id": "5ea97930-03cd-48ff-97b9-97e9cd9dde55",
   "metadata": {},
   "outputs": [
    {
     "data": {
      "text/html": [
       "<div>\n",
       "<style scoped>\n",
       "    .dataframe tbody tr th:only-of-type {\n",
       "        vertical-align: middle;\n",
       "    }\n",
       "\n",
       "    .dataframe tbody tr th {\n",
       "        vertical-align: top;\n",
       "    }\n",
       "\n",
       "    .dataframe thead th {\n",
       "        text-align: right;\n",
       "    }\n",
       "</style>\n",
       "<table border=\"1\" class=\"dataframe\">\n",
       "  <thead>\n",
       "    <tr style=\"text-align: right;\">\n",
       "      <th></th>\n",
       "      <th>Unnamed: 0</th>\n",
       "      <th>number</th>\n",
       "    </tr>\n",
       "  </thead>\n",
       "  <tbody>\n",
       "    <tr>\n",
       "      <th>782</th>\n",
       "      <td>782</td>\n",
       "      <td>0.955151</td>\n",
       "    </tr>\n",
       "    <tr>\n",
       "      <th>378</th>\n",
       "      <td>378</td>\n",
       "      <td>0.310217</td>\n",
       "    </tr>\n",
       "    <tr>\n",
       "      <th>542</th>\n",
       "      <td>542</td>\n",
       "      <td>0.607177</td>\n",
       "    </tr>\n",
       "    <tr>\n",
       "      <th>80</th>\n",
       "      <td>80</td>\n",
       "      <td>0.861696</td>\n",
       "    </tr>\n",
       "    <tr>\n",
       "      <th>282</th>\n",
       "      <td>282</td>\n",
       "      <td>0.204316</td>\n",
       "    </tr>\n",
       "    <tr>\n",
       "      <th>976</th>\n",
       "      <td>976</td>\n",
       "      <td>0.059688</td>\n",
       "    </tr>\n",
       "    <tr>\n",
       "      <th>924</th>\n",
       "      <td>924</td>\n",
       "      <td>0.372837</td>\n",
       "    </tr>\n",
       "    <tr>\n",
       "      <th>329</th>\n",
       "      <td>329</td>\n",
       "      <td>0.406915</td>\n",
       "    </tr>\n",
       "    <tr>\n",
       "      <th>131</th>\n",
       "      <td>131</td>\n",
       "      <td>0.402420</td>\n",
       "    </tr>\n",
       "    <tr>\n",
       "      <th>607</th>\n",
       "      <td>607</td>\n",
       "      <td>0.078909</td>\n",
       "    </tr>\n",
       "  </tbody>\n",
       "</table>\n",
       "</div>"
      ],
      "text/plain": [
       "     Unnamed: 0    number\n",
       "782         782  0.955151\n",
       "378         378  0.310217\n",
       "542         542  0.607177\n",
       "80           80  0.861696\n",
       "282         282  0.204316\n",
       "976         976  0.059688\n",
       "924         924  0.372837\n",
       "329         329  0.406915\n",
       "131         131  0.402420\n",
       "607         607  0.078909"
      ]
     },
     "execution_count": 103,
     "metadata": {},
     "output_type": "execute_result"
    }
   ],
   "source": [
    "random_dataset.sample(10)"
   ]
  },
  {
   "cell_type": "code",
   "execution_count": 104,
   "id": "f19e199b-91aa-4e03-9e07-37f5a574d481",
   "metadata": {},
   "outputs": [
    {
     "name": "stdout",
     "output_type": "stream",
     "text": [
      "<class 'pandas.core.frame.DataFrame'>\n",
      "RangeIndex: 1000 entries, 0 to 999\n",
      "Data columns (total 2 columns):\n",
      " #   Column      Non-Null Count  Dtype  \n",
      "---  ------      --------------  -----  \n",
      " 0   Unnamed: 0  1000 non-null   int64  \n",
      " 1   number      1000 non-null   float64\n",
      "dtypes: float64(1), int64(1)\n",
      "memory usage: 15.8 KB\n"
     ]
    }
   ],
   "source": [
    "random_dataset.info()"
   ]
  },
  {
   "cell_type": "code",
   "execution_count": 105,
   "id": "382f0f03-b3f4-4244-a95c-e78476fae2ca",
   "metadata": {},
   "outputs": [
    {
     "data": {
      "text/plain": [
       "count    1000.000000\n",
       "mean        0.490463\n",
       "std         0.284669\n",
       "min         0.000068\n",
       "25%         0.252124\n",
       "50%         0.479825\n",
       "75%         0.735584\n",
       "max         0.997610\n",
       "Name: number, dtype: float64"
      ]
     },
     "execution_count": 105,
     "metadata": {},
     "output_type": "execute_result"
    }
   ],
   "source": [
    "random_dataset['number'].describe()"
   ]
  },
  {
   "cell_type": "markdown",
   "id": "348a0b85-c450-4d5d-a9d2-c57c95964b42",
   "metadata": {},
   "source": [
    "#### Create 3 col. for numbers for 1%, 5% and 10% missing data"
   ]
  },
  {
   "cell_type": "code",
   "execution_count": 106,
   "id": "f5de26b3-17b7-463b-98e4-147a457ca37e",
   "metadata": {},
   "outputs": [
    {
     "data": {
      "text/html": [
       "<div>\n",
       "<style scoped>\n",
       "    .dataframe tbody tr th:only-of-type {\n",
       "        vertical-align: middle;\n",
       "    }\n",
       "\n",
       "    .dataframe tbody tr th {\n",
       "        vertical-align: top;\n",
       "    }\n",
       "\n",
       "    .dataframe thead th {\n",
       "        text-align: right;\n",
       "    }\n",
       "</style>\n",
       "<table border=\"1\" class=\"dataframe\">\n",
       "  <thead>\n",
       "    <tr style=\"text-align: right;\">\n",
       "      <th></th>\n",
       "      <th>number</th>\n",
       "      <th>number_copy_1_percent</th>\n",
       "      <th>number_copy_5_percent</th>\n",
       "      <th>number_copy_10_percent</th>\n",
       "    </tr>\n",
       "  </thead>\n",
       "  <tbody>\n",
       "    <tr>\n",
       "      <th>0</th>\n",
       "      <td>0.144616</td>\n",
       "      <td>0.144616</td>\n",
       "      <td>0.144616</td>\n",
       "      <td>0.144616</td>\n",
       "    </tr>\n",
       "    <tr>\n",
       "      <th>1</th>\n",
       "      <td>0.077515</td>\n",
       "      <td>0.077515</td>\n",
       "      <td>0.077515</td>\n",
       "      <td>0.077515</td>\n",
       "    </tr>\n",
       "    <tr>\n",
       "      <th>2</th>\n",
       "      <td>0.155933</td>\n",
       "      <td>0.155933</td>\n",
       "      <td>0.155933</td>\n",
       "      <td>0.155933</td>\n",
       "    </tr>\n",
       "    <tr>\n",
       "      <th>3</th>\n",
       "      <td>0.097209</td>\n",
       "      <td>0.097209</td>\n",
       "      <td>0.097209</td>\n",
       "      <td>0.097209</td>\n",
       "    </tr>\n",
       "    <tr>\n",
       "      <th>4</th>\n",
       "      <td>0.323750</td>\n",
       "      <td>0.323750</td>\n",
       "      <td>0.323750</td>\n",
       "      <td>0.323750</td>\n",
       "    </tr>\n",
       "    <tr>\n",
       "      <th>...</th>\n",
       "      <td>...</td>\n",
       "      <td>...</td>\n",
       "      <td>...</td>\n",
       "      <td>...</td>\n",
       "    </tr>\n",
       "    <tr>\n",
       "      <th>995</th>\n",
       "      <td>0.182107</td>\n",
       "      <td>0.182107</td>\n",
       "      <td>0.182107</td>\n",
       "      <td>0.182107</td>\n",
       "    </tr>\n",
       "    <tr>\n",
       "      <th>996</th>\n",
       "      <td>0.787988</td>\n",
       "      <td>0.787988</td>\n",
       "      <td>0.787988</td>\n",
       "      <td>0.787988</td>\n",
       "    </tr>\n",
       "    <tr>\n",
       "      <th>997</th>\n",
       "      <td>0.148707</td>\n",
       "      <td>0.148707</td>\n",
       "      <td>0.148707</td>\n",
       "      <td>0.148707</td>\n",
       "    </tr>\n",
       "    <tr>\n",
       "      <th>998</th>\n",
       "      <td>0.153121</td>\n",
       "      <td>0.153121</td>\n",
       "      <td>0.153121</td>\n",
       "      <td>0.153121</td>\n",
       "    </tr>\n",
       "    <tr>\n",
       "      <th>999</th>\n",
       "      <td>0.474737</td>\n",
       "      <td>0.474737</td>\n",
       "      <td>0.474737</td>\n",
       "      <td>0.474737</td>\n",
       "    </tr>\n",
       "  </tbody>\n",
       "</table>\n",
       "<p>1000 rows × 4 columns</p>\n",
       "</div>"
      ],
      "text/plain": [
       "       number  number_copy_1_percent  number_copy_5_percent  \\\n",
       "0    0.144616               0.144616               0.144616   \n",
       "1    0.077515               0.077515               0.077515   \n",
       "2    0.155933               0.155933               0.155933   \n",
       "3    0.097209               0.097209               0.097209   \n",
       "4    0.323750               0.323750               0.323750   \n",
       "..        ...                    ...                    ...   \n",
       "995  0.182107               0.182107               0.182107   \n",
       "996  0.787988               0.787988               0.787988   \n",
       "997  0.148707               0.148707               0.148707   \n",
       "998  0.153121               0.153121               0.153121   \n",
       "999  0.474737               0.474737               0.474737   \n",
       "\n",
       "     number_copy_10_percent  \n",
       "0                  0.144616  \n",
       "1                  0.077515  \n",
       "2                  0.155933  \n",
       "3                  0.097209  \n",
       "4                  0.323750  \n",
       "..                      ...  \n",
       "995                0.182107  \n",
       "996                0.787988  \n",
       "997                0.148707  \n",
       "998                0.153121  \n",
       "999                0.474737  \n",
       "\n",
       "[1000 rows x 4 columns]"
      ]
     },
     "execution_count": 106,
     "metadata": {},
     "output_type": "execute_result"
    }
   ],
   "source": [
    "df_number = random_dataset[['number']]\n",
    "df_number['number_copy_1_percent'] = df_number[['number']]\n",
    "df_number['number_copy_5_percent'] = df_number[['number']]\n",
    "df_number['number_copy_10_percent'] = df_number[['number']]\n",
    "df_number"
   ]
  },
  {
   "cell_type": "markdown",
   "id": "1ff95002-46a0-454b-97c1-6c189153d459",
   "metadata": {},
   "source": [
    "#### Check % missing values in this dataframe"
   ]
  },
  {
   "cell_type": "code",
   "execution_count": 107,
   "id": "35c38775-26d9-4b1e-97a9-4c46c0d5d92b",
   "metadata": {},
   "outputs": [],
   "source": [
    "def get_percent_missing(dataframe):\n",
    "    \n",
    "    percent_missing = dataframe.isnull().sum() * 100 / len(dataframe)\n",
    "    missing_value_df = pd.DataFrame({'column_name': dataframe.columns,\n",
    "                                     'percent_missing': percent_missing})\n",
    "    return missing_value_df"
   ]
  },
  {
   "cell_type": "code",
   "execution_count": 108,
   "id": "6837b7e5-4444-4914-9c0e-a9cefd2c7b6f",
   "metadata": {},
   "outputs": [
    {
     "name": "stdout",
     "output_type": "stream",
     "text": [
      "                                   column_name  percent_missing\n",
      "number                                  number              0.0\n",
      "number_copy_1_percent    number_copy_1_percent              0.0\n",
      "number_copy_5_percent    number_copy_5_percent              0.0\n",
      "number_copy_10_percent  number_copy_10_percent              0.0\n"
     ]
    }
   ],
   "source": [
    "print(get_percent_missing(df_number))"
   ]
  },
  {
   "cell_type": "markdown",
   "id": "25318ebf-b1bf-4f4b-ba1d-011b27a27f39",
   "metadata": {},
   "source": [
    "#### Create missing helper fn"
   ]
  },
  {
   "cell_type": "code",
   "execution_count": 109,
   "id": "76da9076-d9c8-417e-bcfc-8ce7066d1a53",
   "metadata": {},
   "outputs": [],
   "source": [
    "def create_missing(dataframe, percent, col):\n",
    "    dataframe.loc[dataframe.sample(frac = percent).index, col] = np.nan"
   ]
  },
  {
   "cell_type": "markdown",
   "id": "9dc43e57-be39-4efe-8131-d6a3423b8d77",
   "metadata": {},
   "source": [
    "#### Create missing data in each col"
   ]
  },
  {
   "cell_type": "code",
   "execution_count": 110,
   "id": "6e8ab693-6043-4ade-b62a-9b3fc9ebf735",
   "metadata": {},
   "outputs": [],
   "source": [
    "create_missing(df_number, 0.01, 'number_copy_1_percent')\n",
    "create_missing(df_number, 0.05, 'number_copy_5_percent')\n",
    "create_missing(df_number, 0.1, 'number_copy_10_percent')"
   ]
  },
  {
   "cell_type": "markdown",
   "id": "655cb92a-6b63-4498-9c31-d63f11145569",
   "metadata": {},
   "source": [
    "#### Check % missing after removing data"
   ]
  },
  {
   "cell_type": "code",
   "execution_count": 111,
   "id": "412518b5-67ec-4a5a-9720-4a0ce7657d44",
   "metadata": {},
   "outputs": [
    {
     "name": "stdout",
     "output_type": "stream",
     "text": [
      "                                   column_name  percent_missing\n",
      "number                                  number              0.0\n",
      "number_copy_1_percent    number_copy_1_percent              1.0\n",
      "number_copy_5_percent    number_copy_5_percent              5.0\n",
      "number_copy_10_percent  number_copy_10_percent             10.0\n"
     ]
    }
   ],
   "source": [
    "print(get_percent_missing(df_number))"
   ]
  },
  {
   "cell_type": "markdown",
   "id": "6876e3fc-b878-4560-a3a4-72c36f2a422e",
   "metadata": {},
   "source": [
    "#### Store the indices of missing rows"
   ]
  },
  {
   "cell_type": "code",
   "execution_count": 112,
   "id": "c1860270-add6-4963-9aef-27ef1e171fca",
   "metadata": {},
   "outputs": [],
   "source": [
    "# Store Index of NaN values in each coloumns\n",
    "number_1_idx = list(np.where(df_number['number_copy_1_percent'].isna())[0])\n",
    "number_5_idx = list(np.where(df_number['number_copy_5_percent'].isna())[0])\n",
    "number_10_idx = list(np.where(df_number['number_copy_10_percent'].isna())[0])"
   ]
  },
  {
   "cell_type": "code",
   "execution_count": 113,
   "id": "57841da6-b453-40cc-8ecc-702fe4613a74",
   "metadata": {},
   "outputs": [
    {
     "name": "stdout",
     "output_type": "stream",
     "text": [
      "Length of number_1_idx is 10 and it contains 1.0% of total data in column | Total rows: 1000\n",
      "Length of number_5_idx is 50 and it contains 5.0% of total data in column | Total rows: 1000\n",
      "Length of number_10_idx is 100 and it contains 10.0% of total data in column | Total rows: 1000\n"
     ]
    }
   ],
   "source": [
    "print(f\"Length of number_1_idx is {len(number_1_idx)} and it contains {(len(number_1_idx)/len(df_number['number_copy_1_percent']))*100}% of total data in column | Total rows: {len(df_number['number_copy_1_percent'])}\")\n",
    "print(f\"Length of number_5_idx is {len(number_5_idx)} and it contains {(len(number_5_idx)/len(df_number['number_copy_1_percent']))*100}% of total data in column | Total rows: {len(df_number['number_copy_1_percent'])}\")\n",
    "print(f\"Length of number_10_idx is {len(number_10_idx)} and it contains {(len(number_10_idx)/len(df_number['number_copy_1_percent']))*100}% of total data in column | Total rows: {len(df_number['number_copy_1_percent'])}\")"
   ]
  },
  {
   "cell_type": "markdown",
   "id": "47469d0b-a8f3-4469-b18c-3a457f7dc373",
   "metadata": {},
   "source": [
    "### Perform KNN impute to df_number dataframe"
   ]
  },
  {
   "cell_type": "code",
   "execution_count": 114,
   "id": "b09c6c85-4ce3-4aeb-bb81-6a698494a58e",
   "metadata": {},
   "outputs": [],
   "source": [
    "df_number1 = df_number.copy(deep=True)\n",
    "imputer = KNNImputer(n_neighbors=5)\n",
    "imputed_number_df = pd.DataFrame(imputer.fit_transform(df_number1), columns = df_number1.columns)\n"
   ]
  },
  {
   "cell_type": "code",
   "execution_count": 115,
   "id": "2f051a7d-3ebd-4839-aae0-ef125944d613",
   "metadata": {},
   "outputs": [
    {
     "data": {
      "text/html": [
       "<div>\n",
       "<style scoped>\n",
       "    .dataframe tbody tr th:only-of-type {\n",
       "        vertical-align: middle;\n",
       "    }\n",
       "\n",
       "    .dataframe tbody tr th {\n",
       "        vertical-align: top;\n",
       "    }\n",
       "\n",
       "    .dataframe thead th {\n",
       "        text-align: right;\n",
       "    }\n",
       "</style>\n",
       "<table border=\"1\" class=\"dataframe\">\n",
       "  <thead>\n",
       "    <tr style=\"text-align: right;\">\n",
       "      <th></th>\n",
       "      <th>number</th>\n",
       "      <th>number_copy_1_percent</th>\n",
       "      <th>number_copy_5_percent</th>\n",
       "      <th>number_copy_10_percent</th>\n",
       "    </tr>\n",
       "  </thead>\n",
       "  <tbody>\n",
       "    <tr>\n",
       "      <th>347</th>\n",
       "      <td>0.372389</td>\n",
       "      <td>0.372389</td>\n",
       "      <td>0.372389</td>\n",
       "      <td>0.372389</td>\n",
       "    </tr>\n",
       "    <tr>\n",
       "      <th>934</th>\n",
       "      <td>0.327766</td>\n",
       "      <td>0.327766</td>\n",
       "      <td>0.327766</td>\n",
       "      <td>0.327766</td>\n",
       "    </tr>\n",
       "    <tr>\n",
       "      <th>927</th>\n",
       "      <td>0.753892</td>\n",
       "      <td>0.753892</td>\n",
       "      <td>0.753892</td>\n",
       "      <td>0.753892</td>\n",
       "    </tr>\n",
       "    <tr>\n",
       "      <th>997</th>\n",
       "      <td>0.148707</td>\n",
       "      <td>0.148707</td>\n",
       "      <td>0.148707</td>\n",
       "      <td>0.148707</td>\n",
       "    </tr>\n",
       "    <tr>\n",
       "      <th>167</th>\n",
       "      <td>0.730901</td>\n",
       "      <td>0.730901</td>\n",
       "      <td>0.730901</td>\n",
       "      <td>0.730901</td>\n",
       "    </tr>\n",
       "    <tr>\n",
       "      <th>914</th>\n",
       "      <td>0.841330</td>\n",
       "      <td>0.841330</td>\n",
       "      <td>0.841330</td>\n",
       "      <td>0.841330</td>\n",
       "    </tr>\n",
       "    <tr>\n",
       "      <th>432</th>\n",
       "      <td>0.897466</td>\n",
       "      <td>0.897466</td>\n",
       "      <td>0.897466</td>\n",
       "      <td>0.897466</td>\n",
       "    </tr>\n",
       "    <tr>\n",
       "      <th>587</th>\n",
       "      <td>0.411685</td>\n",
       "      <td>0.411685</td>\n",
       "      <td>0.411685</td>\n",
       "      <td>0.411685</td>\n",
       "    </tr>\n",
       "    <tr>\n",
       "      <th>884</th>\n",
       "      <td>0.378794</td>\n",
       "      <td>0.378794</td>\n",
       "      <td>0.378794</td>\n",
       "      <td>0.378794</td>\n",
       "    </tr>\n",
       "    <tr>\n",
       "      <th>379</th>\n",
       "      <td>0.265429</td>\n",
       "      <td>0.265429</td>\n",
       "      <td>0.265429</td>\n",
       "      <td>0.264843</td>\n",
       "    </tr>\n",
       "  </tbody>\n",
       "</table>\n",
       "</div>"
      ],
      "text/plain": [
       "       number  number_copy_1_percent  number_copy_5_percent  \\\n",
       "347  0.372389               0.372389               0.372389   \n",
       "934  0.327766               0.327766               0.327766   \n",
       "927  0.753892               0.753892               0.753892   \n",
       "997  0.148707               0.148707               0.148707   \n",
       "167  0.730901               0.730901               0.730901   \n",
       "914  0.841330               0.841330               0.841330   \n",
       "432  0.897466               0.897466               0.897466   \n",
       "587  0.411685               0.411685               0.411685   \n",
       "884  0.378794               0.378794               0.378794   \n",
       "379  0.265429               0.265429               0.265429   \n",
       "\n",
       "     number_copy_10_percent  \n",
       "347                0.372389  \n",
       "934                0.327766  \n",
       "927                0.753892  \n",
       "997                0.148707  \n",
       "167                0.730901  \n",
       "914                0.841330  \n",
       "432                0.897466  \n",
       "587                0.411685  \n",
       "884                0.378794  \n",
       "379                0.264843  "
      ]
     },
     "execution_count": 115,
     "metadata": {},
     "output_type": "execute_result"
    }
   ],
   "source": [
    "imputed_number_df.sample(10)"
   ]
  },
  {
   "cell_type": "markdown",
   "id": "ddc79a45-bd2b-44f3-a3c4-aaefa73b43d9",
   "metadata": {},
   "source": [
    "#### Check the % missing data in dataframe now"
   ]
  },
  {
   "cell_type": "code",
   "execution_count": 116,
   "id": "5c98d450-bf5a-46e5-9091-c6a1202a2611",
   "metadata": {},
   "outputs": [
    {
     "name": "stdout",
     "output_type": "stream",
     "text": [
      "                                   column_name  percent_missing\n",
      "number                                  number              0.0\n",
      "number_copy_1_percent    number_copy_1_percent              0.0\n",
      "number_copy_5_percent    number_copy_5_percent              0.0\n",
      "number_copy_10_percent  number_copy_10_percent              0.0\n"
     ]
    }
   ],
   "source": [
    "print(get_percent_missing(imputed_number_df))"
   ]
  },
  {
   "cell_type": "markdown",
   "id": "f14476bf-29e6-4d9a-9cd4-9dd56a53b466",
   "metadata": {},
   "source": [
    "#### Store the list of differences between org. and Imputed value"
   ]
  },
  {
   "cell_type": "code",
   "execution_count": 117,
   "id": "3f096800-dc6e-4455-a9e6-2db18884e5ee",
   "metadata": {},
   "outputs": [],
   "source": [
    "# create list of difference bwtween imputed and orginal value\n",
    "\n",
    "number_diff_1 = []\n",
    "number_diff_5 = []\n",
    "number_diff_10 = []\n",
    "count = 0\n",
    "\n",
    "for i in number_1_idx:\n",
    "    count +=1\n",
    "    diff1 = abs(imputed_number_df['number_copy_1_percent'][i] - df_number1['number'][i])\n",
    "    number_diff_1.append(diff1)\n",
    "    \n",
    "\n",
    "for i in number_5_idx:\n",
    "    diff5 = abs(imputed_number_df['number_copy_5_percent'][i] - df_number1['number'][i])\n",
    "    number_diff_5.append(diff5)\n",
    "\n",
    "for i in number_10_idx:\n",
    "    diff10 = abs(imputed_number_df['number_copy_10_percent'][i] - df_number1['number'][i])\n",
    "    number_diff_10.append(diff10)"
   ]
  },
  {
   "cell_type": "code",
   "execution_count": 118,
   "id": "4a2c29fc-99f3-4624-808e-437d3983cabb",
   "metadata": {},
   "outputs": [
    {
     "name": "stdout",
     "output_type": "stream",
     "text": [
      "10\n",
      "50\n",
      "100\n"
     ]
    }
   ],
   "source": [
    "print(len(number_diff_1))\n",
    "print(len(number_diff_5))\n",
    "print(len(number_diff_10))"
   ]
  },
  {
   "cell_type": "markdown",
   "id": "4ec4adbe-5571-40e3-90ba-92cb431161ca",
   "metadata": {},
   "source": [
    "### Calculate the mean and varience of list of differences KNN"
   ]
  },
  {
   "cell_type": "code",
   "execution_count": 119,
   "id": "1163cb62-9dc4-427e-b5cf-20bf3e16d79b",
   "metadata": {},
   "outputs": [
    {
     "name": "stdout",
     "output_type": "stream",
     "text": [
      "The mean of 1% is 0.0007902710470742466 and varience 1% is 4.5687016451605466e-07\n",
      "The mean of 5% is 0.000675654857997236 and varience 5% is 3.072444468179742e-07\n",
      "The mean of 10% is 0.000675654857997236 and varience 10% is 2.480608628449602e-07\n"
     ]
    }
   ],
   "source": [
    "m1 = sum(number_diff_1) / len(number_diff_1)\n",
    "\n",
    "# calculate variance using a list comprehension\n",
    "var_res1 = sum((xi - m1) ** 2 for xi in number_diff_1) / len(number_diff_1)\n",
    "\n",
    "m5 = sum(number_diff_5) / len(number_diff_5)\n",
    "\n",
    "# calculate variance using a list comprehension\n",
    "var_res5 = sum((xii - m5) ** 2 for xii in number_diff_5) / len(number_diff_5)\n",
    "\n",
    "\n",
    "m10 = sum(number_diff_10) / len(number_diff_10)\n",
    "\n",
    "# calculate variance using a list comprehension\n",
    "var_res10 = sum((xiii - m10) ** 2 for xiii in number_diff_10) / len(number_diff_10)\n",
    "\n",
    "print(f\"The mean of 1% is {m1} and varience 1% is {var_res1}\")\n",
    "print(f\"The mean of 5% is {m5} and varience 5% is {var_res5}\")\n",
    "print(f\"The mean of 10% is {m5} and varience 10% is {var_res10}\")"
   ]
  },
  {
   "cell_type": "code",
   "execution_count": 120,
   "id": "6987d059-7449-44a0-a3c2-8605362a18a0",
   "metadata": {},
   "outputs": [],
   "source": [
    "df_knn_number = pd.DataFrame.from_dict({'1%_number': [m1, var_res1],\n",
    " '5%_number': [m5, var_res5],\n",
    " '10%_number': [m10, var_res10]}, orient='index')\n",
    "df_knn_number.columns=['diff. list Mean(KNN)', 'diff. list Var.(KNN)']"
   ]
  },
  {
   "cell_type": "markdown",
   "id": "41740e20-5dae-403e-a83b-94c91469fcc3",
   "metadata": {},
   "source": [
    "### Perform MEAN based imputation"
   ]
  },
  {
   "cell_type": "markdown",
   "id": "17b69478-e97c-41b9-828a-eefbb46eb161",
   "metadata": {},
   "source": [
    "#### Before mean imputation % missing"
   ]
  },
  {
   "cell_type": "code",
   "execution_count": 121,
   "id": "5a828216-8f1a-4157-8141-77e6c929f57a",
   "metadata": {},
   "outputs": [
    {
     "name": "stdout",
     "output_type": "stream",
     "text": [
      "                                   column_name  percent_missing\n",
      "number                                  number              0.0\n",
      "number_copy_1_percent    number_copy_1_percent              1.0\n",
      "number_copy_5_percent    number_copy_5_percent              5.0\n",
      "number_copy_10_percent  number_copy_10_percent             10.0\n"
     ]
    }
   ],
   "source": [
    "df_number2 = df_number.copy(deep=True)\n",
    "print(get_percent_missing(df_number2))"
   ]
  },
  {
   "cell_type": "code",
   "execution_count": 122,
   "id": "1e137676-9f01-44b9-8a84-50d03a89436b",
   "metadata": {},
   "outputs": [],
   "source": [
    "df_number2['number_copy_1_percent'] = df_number2['number_copy_1_percent'].fillna(df_number2['number_copy_1_percent'].mean())\n",
    "df_number2['number_copy_5_percent'] = df_number2['number_copy_5_percent'].fillna(df_number2['number_copy_5_percent'].mean())\n",
    "df_number2['number_copy_10_percent'] = df_number2['number_copy_10_percent'].fillna(df_number2['number_copy_10_percent'].mean())"
   ]
  },
  {
   "cell_type": "markdown",
   "id": "8da82021-d96a-46ac-81df-035977cb5497",
   "metadata": {},
   "source": [
    "#### After mean impute % missing "
   ]
  },
  {
   "cell_type": "code",
   "execution_count": 123,
   "id": "669c14bd-f920-47db-8476-1cd1b4f4f5bb",
   "metadata": {},
   "outputs": [
    {
     "name": "stdout",
     "output_type": "stream",
     "text": [
      "                                   column_name  percent_missing\n",
      "number                                  number              0.0\n",
      "number_copy_1_percent    number_copy_1_percent              0.0\n",
      "number_copy_5_percent    number_copy_5_percent              0.0\n",
      "number_copy_10_percent  number_copy_10_percent              0.0\n"
     ]
    }
   ],
   "source": [
    "print(get_percent_missing(df_number2))"
   ]
  },
  {
   "cell_type": "code",
   "execution_count": 124,
   "id": "ccb60d18-b24e-4211-9947-46ee0bcc06fe",
   "metadata": {},
   "outputs": [
    {
     "data": {
      "text/html": [
       "<div>\n",
       "<style scoped>\n",
       "    .dataframe tbody tr th:only-of-type {\n",
       "        vertical-align: middle;\n",
       "    }\n",
       "\n",
       "    .dataframe tbody tr th {\n",
       "        vertical-align: top;\n",
       "    }\n",
       "\n",
       "    .dataframe thead th {\n",
       "        text-align: right;\n",
       "    }\n",
       "</style>\n",
       "<table border=\"1\" class=\"dataframe\">\n",
       "  <thead>\n",
       "    <tr style=\"text-align: right;\">\n",
       "      <th></th>\n",
       "      <th>number</th>\n",
       "      <th>number_copy_1_percent</th>\n",
       "      <th>number_copy_5_percent</th>\n",
       "      <th>number_copy_10_percent</th>\n",
       "    </tr>\n",
       "  </thead>\n",
       "  <tbody>\n",
       "    <tr>\n",
       "      <th>366</th>\n",
       "      <td>0.425525</td>\n",
       "      <td>0.425525</td>\n",
       "      <td>0.425525</td>\n",
       "      <td>0.425525</td>\n",
       "    </tr>\n",
       "    <tr>\n",
       "      <th>145</th>\n",
       "      <td>0.246589</td>\n",
       "      <td>0.246589</td>\n",
       "      <td>0.246589</td>\n",
       "      <td>0.246589</td>\n",
       "    </tr>\n",
       "    <tr>\n",
       "      <th>538</th>\n",
       "      <td>0.503701</td>\n",
       "      <td>0.503701</td>\n",
       "      <td>0.503701</td>\n",
       "      <td>0.503701</td>\n",
       "    </tr>\n",
       "    <tr>\n",
       "      <th>256</th>\n",
       "      <td>0.118901</td>\n",
       "      <td>0.118901</td>\n",
       "      <td>0.491932</td>\n",
       "      <td>0.118901</td>\n",
       "    </tr>\n",
       "    <tr>\n",
       "      <th>156</th>\n",
       "      <td>0.773215</td>\n",
       "      <td>0.773215</td>\n",
       "      <td>0.773215</td>\n",
       "      <td>0.773215</td>\n",
       "    </tr>\n",
       "    <tr>\n",
       "      <th>500</th>\n",
       "      <td>0.441087</td>\n",
       "      <td>0.441087</td>\n",
       "      <td>0.441087</td>\n",
       "      <td>0.441087</td>\n",
       "    </tr>\n",
       "    <tr>\n",
       "      <th>325</th>\n",
       "      <td>0.095068</td>\n",
       "      <td>0.095068</td>\n",
       "      <td>0.095068</td>\n",
       "      <td>0.095068</td>\n",
       "    </tr>\n",
       "    <tr>\n",
       "      <th>97</th>\n",
       "      <td>0.209842</td>\n",
       "      <td>0.209842</td>\n",
       "      <td>0.209842</td>\n",
       "      <td>0.487348</td>\n",
       "    </tr>\n",
       "    <tr>\n",
       "      <th>905</th>\n",
       "      <td>0.117657</td>\n",
       "      <td>0.491084</td>\n",
       "      <td>0.117657</td>\n",
       "      <td>0.117657</td>\n",
       "    </tr>\n",
       "    <tr>\n",
       "      <th>251</th>\n",
       "      <td>0.961305</td>\n",
       "      <td>0.961305</td>\n",
       "      <td>0.961305</td>\n",
       "      <td>0.961305</td>\n",
       "    </tr>\n",
       "  </tbody>\n",
       "</table>\n",
       "</div>"
      ],
      "text/plain": [
       "       number  number_copy_1_percent  number_copy_5_percent  \\\n",
       "366  0.425525               0.425525               0.425525   \n",
       "145  0.246589               0.246589               0.246589   \n",
       "538  0.503701               0.503701               0.503701   \n",
       "256  0.118901               0.118901               0.491932   \n",
       "156  0.773215               0.773215               0.773215   \n",
       "500  0.441087               0.441087               0.441087   \n",
       "325  0.095068               0.095068               0.095068   \n",
       "97   0.209842               0.209842               0.209842   \n",
       "905  0.117657               0.491084               0.117657   \n",
       "251  0.961305               0.961305               0.961305   \n",
       "\n",
       "     number_copy_10_percent  \n",
       "366                0.425525  \n",
       "145                0.246589  \n",
       "538                0.503701  \n",
       "256                0.118901  \n",
       "156                0.773215  \n",
       "500                0.441087  \n",
       "325                0.095068  \n",
       "97                 0.487348  \n",
       "905                0.117657  \n",
       "251                0.961305  "
      ]
     },
     "execution_count": 124,
     "metadata": {},
     "output_type": "execute_result"
    }
   ],
   "source": [
    "df_number2.sample(10)"
   ]
  },
  {
   "cell_type": "markdown",
   "id": "88d89795-0ae9-4f37-89cd-b24d36658588",
   "metadata": {},
   "source": [
    "#### Create a list of difference -  MEAN"
   ]
  },
  {
   "cell_type": "code",
   "execution_count": 125,
   "id": "530979d5-52c4-473d-95f3-754c460a7ab6",
   "metadata": {},
   "outputs": [],
   "source": [
    "# create list of difference bwtween imputed and orginal value\n",
    "\n",
    "number_diff_1_mean = []\n",
    "number_diff_5_mean = []\n",
    "number_diff_10_mean = []\n",
    "count = 0\n",
    "\n",
    "for i in number_1_idx:\n",
    "    count +=1\n",
    "    diff1 = abs(df_number2['number_copy_1_percent'][i] - df_number2['number'][i])\n",
    "    number_diff_1_mean.append(diff1)\n",
    "    \n",
    "\n",
    "for i in number_5_idx:\n",
    "    diff5 = abs(df_number2['number_copy_5_percent'][i] - df_number2['number'][i])\n",
    "    number_diff_5_mean.append(diff5)\n",
    "\n",
    "for i in number_10_idx:\n",
    "    diff10 = abs(df_number2['number_copy_10_percent'][i] - df_number2['number'][i])\n",
    "    number_diff_10_mean.append(diff10)"
   ]
  },
  {
   "cell_type": "code",
   "execution_count": 126,
   "id": "28dd2494-0175-431e-b4b7-09ee4af1f6a0",
   "metadata": {},
   "outputs": [
    {
     "name": "stdout",
     "output_type": "stream",
     "text": [
      "10\n",
      "50\n",
      "100\n"
     ]
    }
   ],
   "source": [
    "print(len(number_diff_1_mean))\n",
    "print(len(number_diff_5_mean))\n",
    "print(len(number_diff_10_mean))"
   ]
  },
  {
   "cell_type": "markdown",
   "id": "4e90251e-4c0a-4e2d-82b1-8764374aed1c",
   "metadata": {},
   "source": [
    "### Calculate the mean and var of the list of differences - MEAN Impute"
   ]
  },
  {
   "cell_type": "code",
   "execution_count": 127,
   "id": "682bd76e-4875-4b4d-b90b-91d8a6e492ae",
   "metadata": {},
   "outputs": [
    {
     "name": "stdout",
     "output_type": "stream",
     "text": [
      "The mean of 1% is 0.269368727544059 and varience 1% is 0.018130331928686818\n",
      "The mean of 5% is 0.18484105170274112 and varience 5% is 0.014920933643125705\n",
      "The mean of 10% is 0.18484105170274112 and varience 10% is 0.020023889816061954\n"
     ]
    }
   ],
   "source": [
    "m1 = sum(number_diff_1_mean) / len(number_diff_1_mean)\n",
    "\n",
    "# calculate variance using a list comprehension\n",
    "var_res1 = sum((xi - m1) ** 2 for xi in number_diff_1_mean) / len(number_diff_1_mean)\n",
    "\n",
    "m5 = sum(number_diff_5_mean) / len(number_diff_5_mean)\n",
    "\n",
    "# calculate variance using a list comprehension\n",
    "var_res5 = sum((xii - m5) ** 2 for xii in number_diff_5_mean) / len(number_diff_5_mean)\n",
    "\n",
    "\n",
    "m10 = sum(number_diff_10_mean) / len(number_diff_10_mean)\n",
    "\n",
    "# calculate variance using a list comprehension\n",
    "var_res10 = sum((xiii - m10) ** 2 for xiii in number_diff_10_mean) / len(number_diff_10_mean)\n",
    "\n",
    "print(f\"The mean of 1% is {m1} and varience 1% is {var_res1}\")\n",
    "print(f\"The mean of 5% is {m5} and varience 5% is {var_res5}\")\n",
    "print(f\"The mean of 10% is {m5} and varience 10% is {var_res10}\")"
   ]
  },
  {
   "cell_type": "code",
   "execution_count": 128,
   "id": "1f41880d-3e7d-48c9-8744-7e47ccae3c17",
   "metadata": {},
   "outputs": [],
   "source": [
    "df_MI_number = pd.DataFrame.from_dict({'1%_number': [m1, var_res1],\n",
    " '5%_number': [m5, var_res5],\n",
    " '10%_number': [m10, var_res10]}, orient='index')\n",
    "df_MI_number.columns=['diff. list Mean(MI)', 'diff. list Var.(MI)']"
   ]
  },
  {
   "cell_type": "markdown",
   "id": "ec64b079-db97-429c-ae3a-519eec91db3f",
   "metadata": {},
   "source": [
    "## KNN and MEAN columns side by side"
   ]
  },
  {
   "cell_type": "code",
   "execution_count": 129,
   "id": "d74b0e73-e3f0-4107-806d-c5d5a50aab9a",
   "metadata": {},
   "outputs": [],
   "source": [
    "from IPython.display import display_html\n",
    "from itertools import chain,cycle\n",
    "def display_side_by_side(*args,titles=cycle([''])):\n",
    "    html_str=''\n",
    "    for df,title in zip(args, chain(titles,cycle(['</br>'])) ):\n",
    "        html_str+='<th style=\"text-align:center\"><td style=\"vertical-align:top\">'\n",
    "        html_str+=f'<h2>{title}</h2>'\n",
    "        html_str+=df.to_html().replace('table','table style=\"display:inline\"')\n",
    "        html_str+='</td></th>'\n",
    "    display_html(html_str,raw=True)"
   ]
  },
  {
   "cell_type": "code",
   "execution_count": 130,
   "id": "747a487f-cbc4-467a-9bc7-b0856dbb6576",
   "metadata": {},
   "outputs": [
    {
     "data": {
      "text/html": [
       "<style>\n",
       ".output {\n",
       "    flex-direction: row;\n",
       "}\n",
       "</style>"
      ],
      "text/plain": [
       "<IPython.core.display.HTML object>"
      ]
     },
     "execution_count": 130,
     "metadata": {},
     "output_type": "execute_result"
    }
   ],
   "source": [
    "from IPython.display import display, HTML\n",
    "\n",
    "CSS = \"\"\"\n",
    ".output {\n",
    "    flex-direction: row;\n",
    "}\n",
    "\"\"\"\n",
    "\n",
    "HTML('<style>{}</style>'.format(CSS))"
   ]
  },
  {
   "cell_type": "code",
   "execution_count": 131,
   "id": "d24551d1-cd58-4a41-8262-873fe5034272",
   "metadata": {},
   "outputs": [],
   "source": [
    "# https://github.com/epmoyer/ipy_table/issues/24\n",
    "\n",
    "from IPython.core.display import HTML\n",
    "\n",
    "def multi_table(table_list):\n",
    "    ''' Acceps a list of IpyTable objects and returns a table which contains each IpyTable in a cell\n",
    "    '''\n",
    "    return HTML(\n",
    "        '<table><tr style=\"background-color:white;\">' + \n",
    "        ''.join(['<td>' + table._repr_html_() + '</td>' for table in table_list]) +\n",
    "        '</tr></table>'\n",
    "    )"
   ]
  },
  {
   "cell_type": "code",
   "execution_count": 132,
   "id": "8a8daa30-3abf-4315-ae58-f9171ff000d5",
   "metadata": {},
   "outputs": [
    {
     "name": "stdout",
     "output_type": "stream",
     "text": [
      "[124, 257, 309, 313, 405]\n"
     ]
    }
   ],
   "source": [
    "print(number_1_idx[:5])"
   ]
  },
  {
   "cell_type": "code",
   "execution_count": 133,
   "id": "da6b1646-2417-42b7-bc8f-d3b0be85c61b",
   "metadata": {},
   "outputs": [],
   "source": [
    "compare_1 = imputed_number_df.loc[:, [\"number\", \"number_copy_1_percent\"]]\n",
    "compare_5 = imputed_number_df.loc[:, [\"number\", \"number_copy_5_percent\"]]\n",
    "compare_10 = imputed_number_df.loc[:, [\"number\", \"number_copy_10_percent\"]]"
   ]
  },
  {
   "cell_type": "code",
   "execution_count": 134,
   "id": "380b94cf-264f-4a41-bb1d-ac272354073f",
   "metadata": {},
   "outputs": [],
   "source": [
    "compare_1_df =  compare_1.iloc[number_1_idx]\n",
    "compare_5_df =  compare_5.iloc[number_5_idx]\n",
    "compare_10_df =  compare_10.iloc[number_10_idx]"
   ]
  },
  {
   "cell_type": "code",
   "execution_count": 135,
   "id": "e5b21e71-0ddd-4c60-b931-b384d65230dd",
   "metadata": {},
   "outputs": [],
   "source": [
    "compare_1_mean = df_number2.loc[:, [\"number\", \"number_copy_1_percent\"]]\n",
    "compare_5_mean = df_number2.loc[:, [\"number\", \"number_copy_5_percent\"]]\n",
    "compare_10_mean = df_number2.loc[:, [\"number\", \"number_copy_10_percent\"]]"
   ]
  },
  {
   "cell_type": "code",
   "execution_count": 136,
   "id": "29be3554-8129-4f0c-bad6-1270b7c6c05b",
   "metadata": {},
   "outputs": [],
   "source": [
    "compare_1_mean_df =  compare_1_mean.iloc[number_1_idx]\n",
    "compare_5_mean_df =  compare_5_mean.iloc[number_5_idx]\n",
    "compare_10_mean_df =  compare_10_mean.iloc[number_10_idx]"
   ]
  },
  {
   "cell_type": "code",
   "execution_count": 137,
   "id": "27b96ecc-3566-48f5-bec5-9b073c575cb6",
   "metadata": {},
   "outputs": [],
   "source": [
    "# display_side_by_side(compare_1_df.head(), compare_1_mean_df.head(), titles=['number 1% KNN Impute','number 1% Mean Impute'])\n",
    "# display_side_by_side(compare_5_df.head(), compare_5_mean_df.head(), titles=['number 5% KNN Impute','number 5% Mean Impute'])\n",
    "# display_side_by_side(compare_10_df.head(), compare_10_mean_df.head(), titles=['number 10% KNN Impute','number 10% Mean Impute'])"
   ]
  },
  {
   "cell_type": "markdown",
   "id": "72a3bc3c-0f91-49ad-bf03-dc4b7ace265d",
   "metadata": {},
   "source": [
    "#### **number 1% KNN Impute VS number 1% Mean Impute**"
   ]
  },
  {
   "cell_type": "code",
   "execution_count": 138,
   "id": "6fd11f89-9f4b-49b3-b114-1ab3b461f180",
   "metadata": {},
   "outputs": [
    {
     "data": {
      "text/html": [
       "<table><tr style=\"background-color:white;\"><td><div>\n",
       "<style scoped>\n",
       "    .dataframe tbody tr th:only-of-type {\n",
       "        vertical-align: middle;\n",
       "    }\n",
       "\n",
       "    .dataframe tbody tr th {\n",
       "        vertical-align: top;\n",
       "    }\n",
       "\n",
       "    .dataframe thead th {\n",
       "        text-align: right;\n",
       "    }\n",
       "</style>\n",
       "<table border=\"1\" class=\"dataframe\">\n",
       "  <thead>\n",
       "    <tr style=\"text-align: right;\">\n",
       "      <th></th>\n",
       "      <th>number</th>\n",
       "      <th>number_copy_1_percent</th>\n",
       "    </tr>\n",
       "  </thead>\n",
       "  <tbody>\n",
       "    <tr>\n",
       "      <th>124</th>\n",
       "      <td>0.192990</td>\n",
       "      <td>0.192926</td>\n",
       "    </tr>\n",
       "    <tr>\n",
       "      <th>257</th>\n",
       "      <td>0.065602</td>\n",
       "      <td>0.066172</td>\n",
       "    </tr>\n",
       "    <tr>\n",
       "      <th>309</th>\n",
       "      <td>0.661447</td>\n",
       "      <td>0.663769</td>\n",
       "    </tr>\n",
       "    <tr>\n",
       "      <th>313</th>\n",
       "      <td>0.963951</td>\n",
       "      <td>0.962988</td>\n",
       "    </tr>\n",
       "    <tr>\n",
       "      <th>405</th>\n",
       "      <td>0.627460</td>\n",
       "      <td>0.627545</td>\n",
       "    </tr>\n",
       "  </tbody>\n",
       "</table>\n",
       "</div></td><td><div>\n",
       "<style scoped>\n",
       "    .dataframe tbody tr th:only-of-type {\n",
       "        vertical-align: middle;\n",
       "    }\n",
       "\n",
       "    .dataframe tbody tr th {\n",
       "        vertical-align: top;\n",
       "    }\n",
       "\n",
       "    .dataframe thead th {\n",
       "        text-align: right;\n",
       "    }\n",
       "</style>\n",
       "<table border=\"1\" class=\"dataframe\">\n",
       "  <thead>\n",
       "    <tr style=\"text-align: right;\">\n",
       "      <th></th>\n",
       "      <th>number</th>\n",
       "      <th>number_copy_1_percent</th>\n",
       "    </tr>\n",
       "  </thead>\n",
       "  <tbody>\n",
       "    <tr>\n",
       "      <th>124</th>\n",
       "      <td>0.192990</td>\n",
       "      <td>0.491084</td>\n",
       "    </tr>\n",
       "    <tr>\n",
       "      <th>257</th>\n",
       "      <td>0.065602</td>\n",
       "      <td>0.491084</td>\n",
       "    </tr>\n",
       "    <tr>\n",
       "      <th>309</th>\n",
       "      <td>0.661447</td>\n",
       "      <td>0.491084</td>\n",
       "    </tr>\n",
       "    <tr>\n",
       "      <th>313</th>\n",
       "      <td>0.963951</td>\n",
       "      <td>0.491084</td>\n",
       "    </tr>\n",
       "    <tr>\n",
       "      <th>405</th>\n",
       "      <td>0.627460</td>\n",
       "      <td>0.491084</td>\n",
       "    </tr>\n",
       "  </tbody>\n",
       "</table>\n",
       "</div></td></tr></table>"
      ],
      "text/plain": [
       "<IPython.core.display.HTML object>"
      ]
     },
     "execution_count": 138,
     "metadata": {},
     "output_type": "execute_result"
    }
   ],
   "source": [
    "multi_table([compare_1_df.head(), compare_1_mean_df.head()])"
   ]
  },
  {
   "cell_type": "markdown",
   "id": "e1fc9d1c-53ef-42d3-809b-d68051057e48",
   "metadata": {},
   "source": [
    "#### **number 5% KNN Impute VS number 5% Mean Impute**"
   ]
  },
  {
   "cell_type": "code",
   "execution_count": 139,
   "id": "a97c1530-2e50-48d2-a7e0-89fc70f648e5",
   "metadata": {},
   "outputs": [
    {
     "data": {
      "text/html": [
       "<table><tr style=\"background-color:white;\"><td><div>\n",
       "<style scoped>\n",
       "    .dataframe tbody tr th:only-of-type {\n",
       "        vertical-align: middle;\n",
       "    }\n",
       "\n",
       "    .dataframe tbody tr th {\n",
       "        vertical-align: top;\n",
       "    }\n",
       "\n",
       "    .dataframe thead th {\n",
       "        text-align: right;\n",
       "    }\n",
       "</style>\n",
       "<table border=\"1\" class=\"dataframe\">\n",
       "  <thead>\n",
       "    <tr style=\"text-align: right;\">\n",
       "      <th></th>\n",
       "      <th>number</th>\n",
       "      <th>number_copy_5_percent</th>\n",
       "    </tr>\n",
       "  </thead>\n",
       "  <tbody>\n",
       "    <tr>\n",
       "      <th>54</th>\n",
       "      <td>0.440144</td>\n",
       "      <td>0.439307</td>\n",
       "    </tr>\n",
       "    <tr>\n",
       "      <th>59</th>\n",
       "      <td>0.189655</td>\n",
       "      <td>0.191045</td>\n",
       "    </tr>\n",
       "    <tr>\n",
       "      <th>72</th>\n",
       "      <td>0.411451</td>\n",
       "      <td>0.412386</td>\n",
       "    </tr>\n",
       "    <tr>\n",
       "      <th>78</th>\n",
       "      <td>0.205178</td>\n",
       "      <td>0.204306</td>\n",
       "    </tr>\n",
       "    <tr>\n",
       "      <th>107</th>\n",
       "      <td>0.323097</td>\n",
       "      <td>0.322044</td>\n",
       "    </tr>\n",
       "  </tbody>\n",
       "</table>\n",
       "</div></td><td><div>\n",
       "<style scoped>\n",
       "    .dataframe tbody tr th:only-of-type {\n",
       "        vertical-align: middle;\n",
       "    }\n",
       "\n",
       "    .dataframe tbody tr th {\n",
       "        vertical-align: top;\n",
       "    }\n",
       "\n",
       "    .dataframe thead th {\n",
       "        text-align: right;\n",
       "    }\n",
       "</style>\n",
       "<table border=\"1\" class=\"dataframe\">\n",
       "  <thead>\n",
       "    <tr style=\"text-align: right;\">\n",
       "      <th></th>\n",
       "      <th>number</th>\n",
       "      <th>number_copy_5_percent</th>\n",
       "    </tr>\n",
       "  </thead>\n",
       "  <tbody>\n",
       "    <tr>\n",
       "      <th>54</th>\n",
       "      <td>0.440144</td>\n",
       "      <td>0.491932</td>\n",
       "    </tr>\n",
       "    <tr>\n",
       "      <th>59</th>\n",
       "      <td>0.189655</td>\n",
       "      <td>0.491932</td>\n",
       "    </tr>\n",
       "    <tr>\n",
       "      <th>72</th>\n",
       "      <td>0.411451</td>\n",
       "      <td>0.491932</td>\n",
       "    </tr>\n",
       "    <tr>\n",
       "      <th>78</th>\n",
       "      <td>0.205178</td>\n",
       "      <td>0.491932</td>\n",
       "    </tr>\n",
       "    <tr>\n",
       "      <th>107</th>\n",
       "      <td>0.323097</td>\n",
       "      <td>0.491932</td>\n",
       "    </tr>\n",
       "  </tbody>\n",
       "</table>\n",
       "</div></td></tr></table>"
      ],
      "text/plain": [
       "<IPython.core.display.HTML object>"
      ]
     },
     "execution_count": 139,
     "metadata": {},
     "output_type": "execute_result"
    }
   ],
   "source": [
    "multi_table([compare_5_df.head(), compare_5_mean_df.head()])"
   ]
  },
  {
   "cell_type": "markdown",
   "id": "1e732ac9-faf7-4457-baef-ac9c4976598c",
   "metadata": {},
   "source": [
    "#### **number 10% KNN Impute VS number 10% Mean Impute**"
   ]
  },
  {
   "cell_type": "code",
   "execution_count": 140,
   "id": "f2d22e8f-5a0b-48c0-9150-a391d48e93b2",
   "metadata": {},
   "outputs": [
    {
     "data": {
      "text/html": [
       "<table><tr style=\"background-color:white;\"><td><div>\n",
       "<style scoped>\n",
       "    .dataframe tbody tr th:only-of-type {\n",
       "        vertical-align: middle;\n",
       "    }\n",
       "\n",
       "    .dataframe tbody tr th {\n",
       "        vertical-align: top;\n",
       "    }\n",
       "\n",
       "    .dataframe thead th {\n",
       "        text-align: right;\n",
       "    }\n",
       "</style>\n",
       "<table border=\"1\" class=\"dataframe\">\n",
       "  <thead>\n",
       "    <tr style=\"text-align: right;\">\n",
       "      <th></th>\n",
       "      <th>number</th>\n",
       "      <th>number_copy_10_percent</th>\n",
       "    </tr>\n",
       "  </thead>\n",
       "  <tbody>\n",
       "    <tr>\n",
       "      <th>22</th>\n",
       "      <td>0.798188</td>\n",
       "      <td>0.798777</td>\n",
       "    </tr>\n",
       "    <tr>\n",
       "      <th>47</th>\n",
       "      <td>0.861454</td>\n",
       "      <td>0.861385</td>\n",
       "    </tr>\n",
       "    <tr>\n",
       "      <th>49</th>\n",
       "      <td>0.445108</td>\n",
       "      <td>0.446055</td>\n",
       "    </tr>\n",
       "    <tr>\n",
       "      <th>68</th>\n",
       "      <td>0.557468</td>\n",
       "      <td>0.557299</td>\n",
       "    </tr>\n",
       "    <tr>\n",
       "      <th>69</th>\n",
       "      <td>0.231172</td>\n",
       "      <td>0.230069</td>\n",
       "    </tr>\n",
       "  </tbody>\n",
       "</table>\n",
       "</div></td><td><div>\n",
       "<style scoped>\n",
       "    .dataframe tbody tr th:only-of-type {\n",
       "        vertical-align: middle;\n",
       "    }\n",
       "\n",
       "    .dataframe tbody tr th {\n",
       "        vertical-align: top;\n",
       "    }\n",
       "\n",
       "    .dataframe thead th {\n",
       "        text-align: right;\n",
       "    }\n",
       "</style>\n",
       "<table border=\"1\" class=\"dataframe\">\n",
       "  <thead>\n",
       "    <tr style=\"text-align: right;\">\n",
       "      <th></th>\n",
       "      <th>number</th>\n",
       "      <th>number_copy_10_percent</th>\n",
       "    </tr>\n",
       "  </thead>\n",
       "  <tbody>\n",
       "    <tr>\n",
       "      <th>22</th>\n",
       "      <td>0.798188</td>\n",
       "      <td>0.487348</td>\n",
       "    </tr>\n",
       "    <tr>\n",
       "      <th>47</th>\n",
       "      <td>0.861454</td>\n",
       "      <td>0.487348</td>\n",
       "    </tr>\n",
       "    <tr>\n",
       "      <th>49</th>\n",
       "      <td>0.445108</td>\n",
       "      <td>0.487348</td>\n",
       "    </tr>\n",
       "    <tr>\n",
       "      <th>68</th>\n",
       "      <td>0.557468</td>\n",
       "      <td>0.487348</td>\n",
       "    </tr>\n",
       "    <tr>\n",
       "      <th>69</th>\n",
       "      <td>0.231172</td>\n",
       "      <td>0.487348</td>\n",
       "    </tr>\n",
       "  </tbody>\n",
       "</table>\n",
       "</div></td></tr></table>"
      ],
      "text/plain": [
       "<IPython.core.display.HTML object>"
      ]
     },
     "execution_count": 140,
     "metadata": {},
     "output_type": "execute_result"
    }
   ],
   "source": [
    "multi_table([compare_10_df.head(), compare_10_mean_df.head()])"
   ]
  },
  {
   "cell_type": "markdown",
   "id": "cc817314-971f-4abf-a56e-9830a5cf0329",
   "metadata": {},
   "source": [
    "# 1.2 Random Numbers dataset Results - KNN and MEAN"
   ]
  },
  {
   "cell_type": "code",
   "execution_count": 142,
   "id": "1397844d-6757-471c-bd76-ff84d466b150",
   "metadata": {},
   "outputs": [],
   "source": [
    "results = pd.concat([df_knn_number, df_MI_number])"
   ]
  },
  {
   "cell_type": "code",
   "execution_count": 143,
   "id": "51868cc7-20f3-499d-a76d-f06f99ea1841",
   "metadata": {},
   "outputs": [
    {
     "data": {
      "text/html": [
       "<div>\n",
       "<style scoped>\n",
       "    .dataframe tbody tr th:only-of-type {\n",
       "        vertical-align: middle;\n",
       "    }\n",
       "\n",
       "    .dataframe tbody tr th {\n",
       "        vertical-align: top;\n",
       "    }\n",
       "\n",
       "    .dataframe thead th {\n",
       "        text-align: right;\n",
       "    }\n",
       "</style>\n",
       "<table border=\"1\" class=\"dataframe\">\n",
       "  <thead>\n",
       "    <tr style=\"text-align: right;\">\n",
       "      <th></th>\n",
       "      <th>diff. list Mean(KNN)</th>\n",
       "      <th>diff. list Var.(KNN)</th>\n",
       "      <th>diff. list Mean(MI)</th>\n",
       "      <th>diff. list Var.(MI)</th>\n",
       "    </tr>\n",
       "  </thead>\n",
       "  <tbody>\n",
       "    <tr>\n",
       "      <th>1%_number</th>\n",
       "      <td>0.000790</td>\n",
       "      <td>4.568702e-07</td>\n",
       "      <td>NaN</td>\n",
       "      <td>NaN</td>\n",
       "    </tr>\n",
       "    <tr>\n",
       "      <th>5%_number</th>\n",
       "      <td>0.000676</td>\n",
       "      <td>3.072444e-07</td>\n",
       "      <td>NaN</td>\n",
       "      <td>NaN</td>\n",
       "    </tr>\n",
       "    <tr>\n",
       "      <th>10%_number</th>\n",
       "      <td>0.000648</td>\n",
       "      <td>2.480609e-07</td>\n",
       "      <td>NaN</td>\n",
       "      <td>NaN</td>\n",
       "    </tr>\n",
       "    <tr>\n",
       "      <th>1%_number</th>\n",
       "      <td>NaN</td>\n",
       "      <td>NaN</td>\n",
       "      <td>0.269369</td>\n",
       "      <td>0.018130</td>\n",
       "    </tr>\n",
       "    <tr>\n",
       "      <th>5%_number</th>\n",
       "      <td>NaN</td>\n",
       "      <td>NaN</td>\n",
       "      <td>0.184841</td>\n",
       "      <td>0.014921</td>\n",
       "    </tr>\n",
       "    <tr>\n",
       "      <th>10%_number</th>\n",
       "      <td>NaN</td>\n",
       "      <td>NaN</td>\n",
       "      <td>0.231501</td>\n",
       "      <td>0.020024</td>\n",
       "    </tr>\n",
       "  </tbody>\n",
       "</table>\n",
       "</div>"
      ],
      "text/plain": [
       "            diff. list Mean(KNN)  diff. list Var.(KNN)  diff. list Mean(MI)  \\\n",
       "1%_number               0.000790          4.568702e-07                  NaN   \n",
       "5%_number               0.000676          3.072444e-07                  NaN   \n",
       "10%_number              0.000648          2.480609e-07                  NaN   \n",
       "1%_number                    NaN                   NaN             0.269369   \n",
       "5%_number                    NaN                   NaN             0.184841   \n",
       "10%_number                   NaN                   NaN             0.231501   \n",
       "\n",
       "            diff. list Var.(MI)  \n",
       "1%_number                   NaN  \n",
       "5%_number                   NaN  \n",
       "10%_number                  NaN  \n",
       "1%_number              0.018130  \n",
       "5%_number              0.014921  \n",
       "10%_number             0.020024  "
      ]
     },
     "execution_count": 143,
     "metadata": {},
     "output_type": "execute_result"
    }
   ],
   "source": [
    "results"
   ]
  },
  {
   "cell_type": "code",
   "execution_count": 144,
   "id": "85deaebb-3a2b-4b52-bf80-ce31499a70d8",
   "metadata": {},
   "outputs": [],
   "source": [
    "results.to_csv('random_num_knn_mean_results.csv')"
   ]
  },
  {
   "cell_type": "markdown",
   "id": "08586561-e3a5-4d15-a1c0-b8d71731a84a",
   "metadata": {},
   "source": [
    "# 2.1 Housing Dataset "
   ]
  },
  {
   "cell_type": "code",
   "execution_count": 361,
   "id": "c05f4dd5-4cdc-4617-939a-2e22ec859af1",
   "metadata": {},
   "outputs": [],
   "source": [
    "housing_data = pd.read_csv('https://raw.githubusercontent.com/nikbearbrown/AI_Research_Group/main/Awesome-UCI-Datasets/Classification/House_Price_predication/train.csv')"
   ]
  },
  {
   "cell_type": "code",
   "execution_count": 362,
   "id": "8564d163-97ce-44da-8d3c-6f8cd9c1d0a1",
   "metadata": {},
   "outputs": [
    {
     "data": {
      "text/html": [
       "<div>\n",
       "<style scoped>\n",
       "    .dataframe tbody tr th:only-of-type {\n",
       "        vertical-align: middle;\n",
       "    }\n",
       "\n",
       "    .dataframe tbody tr th {\n",
       "        vertical-align: top;\n",
       "    }\n",
       "\n",
       "    .dataframe thead th {\n",
       "        text-align: right;\n",
       "    }\n",
       "</style>\n",
       "<table border=\"1\" class=\"dataframe\">\n",
       "  <thead>\n",
       "    <tr style=\"text-align: right;\">\n",
       "      <th></th>\n",
       "      <th>Id</th>\n",
       "      <th>MSSubClass</th>\n",
       "      <th>MSZoning</th>\n",
       "      <th>LotFrontage</th>\n",
       "      <th>LotArea</th>\n",
       "      <th>Street</th>\n",
       "      <th>Alley</th>\n",
       "      <th>LotShape</th>\n",
       "      <th>LandContour</th>\n",
       "      <th>Utilities</th>\n",
       "      <th>...</th>\n",
       "      <th>PoolArea</th>\n",
       "      <th>PoolQC</th>\n",
       "      <th>Fence</th>\n",
       "      <th>MiscFeature</th>\n",
       "      <th>MiscVal</th>\n",
       "      <th>MoSold</th>\n",
       "      <th>YrSold</th>\n",
       "      <th>SaleType</th>\n",
       "      <th>SaleCondition</th>\n",
       "      <th>SalePrice</th>\n",
       "    </tr>\n",
       "  </thead>\n",
       "  <tbody>\n",
       "    <tr>\n",
       "      <th>820</th>\n",
       "      <td>821</td>\n",
       "      <td>60</td>\n",
       "      <td>RL</td>\n",
       "      <td>72.0</td>\n",
       "      <td>7226</td>\n",
       "      <td>Pave</td>\n",
       "      <td>NaN</td>\n",
       "      <td>IR1</td>\n",
       "      <td>Lvl</td>\n",
       "      <td>AllPub</td>\n",
       "      <td>...</td>\n",
       "      <td>0</td>\n",
       "      <td>NaN</td>\n",
       "      <td>NaN</td>\n",
       "      <td>NaN</td>\n",
       "      <td>0</td>\n",
       "      <td>6</td>\n",
       "      <td>2008</td>\n",
       "      <td>WD</td>\n",
       "      <td>Normal</td>\n",
       "      <td>183000</td>\n",
       "    </tr>\n",
       "    <tr>\n",
       "      <th>1390</th>\n",
       "      <td>1391</td>\n",
       "      <td>20</td>\n",
       "      <td>RL</td>\n",
       "      <td>70.0</td>\n",
       "      <td>9100</td>\n",
       "      <td>Pave</td>\n",
       "      <td>NaN</td>\n",
       "      <td>Reg</td>\n",
       "      <td>Lvl</td>\n",
       "      <td>AllPub</td>\n",
       "      <td>...</td>\n",
       "      <td>0</td>\n",
       "      <td>NaN</td>\n",
       "      <td>NaN</td>\n",
       "      <td>NaN</td>\n",
       "      <td>0</td>\n",
       "      <td>9</td>\n",
       "      <td>2006</td>\n",
       "      <td>WD</td>\n",
       "      <td>Normal</td>\n",
       "      <td>235000</td>\n",
       "    </tr>\n",
       "    <tr>\n",
       "      <th>535</th>\n",
       "      <td>536</td>\n",
       "      <td>190</td>\n",
       "      <td>RL</td>\n",
       "      <td>70.0</td>\n",
       "      <td>7000</td>\n",
       "      <td>Pave</td>\n",
       "      <td>NaN</td>\n",
       "      <td>Reg</td>\n",
       "      <td>Lvl</td>\n",
       "      <td>AllPub</td>\n",
       "      <td>...</td>\n",
       "      <td>0</td>\n",
       "      <td>NaN</td>\n",
       "      <td>NaN</td>\n",
       "      <td>NaN</td>\n",
       "      <td>0</td>\n",
       "      <td>1</td>\n",
       "      <td>2008</td>\n",
       "      <td>WD</td>\n",
       "      <td>Normal</td>\n",
       "      <td>107500</td>\n",
       "    </tr>\n",
       "    <tr>\n",
       "      <th>1236</th>\n",
       "      <td>1237</td>\n",
       "      <td>160</td>\n",
       "      <td>RL</td>\n",
       "      <td>36.0</td>\n",
       "      <td>2628</td>\n",
       "      <td>Pave</td>\n",
       "      <td>NaN</td>\n",
       "      <td>Reg</td>\n",
       "      <td>Lvl</td>\n",
       "      <td>AllPub</td>\n",
       "      <td>...</td>\n",
       "      <td>0</td>\n",
       "      <td>NaN</td>\n",
       "      <td>NaN</td>\n",
       "      <td>NaN</td>\n",
       "      <td>0</td>\n",
       "      <td>6</td>\n",
       "      <td>2010</td>\n",
       "      <td>WD</td>\n",
       "      <td>Normal</td>\n",
       "      <td>175500</td>\n",
       "    </tr>\n",
       "    <tr>\n",
       "      <th>1337</th>\n",
       "      <td>1338</td>\n",
       "      <td>30</td>\n",
       "      <td>RM</td>\n",
       "      <td>153.0</td>\n",
       "      <td>4118</td>\n",
       "      <td>Pave</td>\n",
       "      <td>Grvl</td>\n",
       "      <td>IR1</td>\n",
       "      <td>Bnk</td>\n",
       "      <td>AllPub</td>\n",
       "      <td>...</td>\n",
       "      <td>0</td>\n",
       "      <td>NaN</td>\n",
       "      <td>NaN</td>\n",
       "      <td>NaN</td>\n",
       "      <td>0</td>\n",
       "      <td>3</td>\n",
       "      <td>2006</td>\n",
       "      <td>WD</td>\n",
       "      <td>Normal</td>\n",
       "      <td>52500</td>\n",
       "    </tr>\n",
       "    <tr>\n",
       "      <th>674</th>\n",
       "      <td>675</td>\n",
       "      <td>20</td>\n",
       "      <td>RL</td>\n",
       "      <td>80.0</td>\n",
       "      <td>9200</td>\n",
       "      <td>Pave</td>\n",
       "      <td>NaN</td>\n",
       "      <td>Reg</td>\n",
       "      <td>Lvl</td>\n",
       "      <td>AllPub</td>\n",
       "      <td>...</td>\n",
       "      <td>0</td>\n",
       "      <td>NaN</td>\n",
       "      <td>NaN</td>\n",
       "      <td>NaN</td>\n",
       "      <td>0</td>\n",
       "      <td>7</td>\n",
       "      <td>2008</td>\n",
       "      <td>WD</td>\n",
       "      <td>Normal</td>\n",
       "      <td>140000</td>\n",
       "    </tr>\n",
       "    <tr>\n",
       "      <th>604</th>\n",
       "      <td>605</td>\n",
       "      <td>20</td>\n",
       "      <td>RL</td>\n",
       "      <td>88.0</td>\n",
       "      <td>12803</td>\n",
       "      <td>Pave</td>\n",
       "      <td>NaN</td>\n",
       "      <td>IR1</td>\n",
       "      <td>Lvl</td>\n",
       "      <td>AllPub</td>\n",
       "      <td>...</td>\n",
       "      <td>0</td>\n",
       "      <td>NaN</td>\n",
       "      <td>NaN</td>\n",
       "      <td>NaN</td>\n",
       "      <td>0</td>\n",
       "      <td>9</td>\n",
       "      <td>2008</td>\n",
       "      <td>WD</td>\n",
       "      <td>Normal</td>\n",
       "      <td>221000</td>\n",
       "    </tr>\n",
       "    <tr>\n",
       "      <th>605</th>\n",
       "      <td>606</td>\n",
       "      <td>60</td>\n",
       "      <td>RL</td>\n",
       "      <td>85.0</td>\n",
       "      <td>13600</td>\n",
       "      <td>Pave</td>\n",
       "      <td>NaN</td>\n",
       "      <td>Reg</td>\n",
       "      <td>Lvl</td>\n",
       "      <td>AllPub</td>\n",
       "      <td>...</td>\n",
       "      <td>0</td>\n",
       "      <td>NaN</td>\n",
       "      <td>NaN</td>\n",
       "      <td>NaN</td>\n",
       "      <td>0</td>\n",
       "      <td>10</td>\n",
       "      <td>2009</td>\n",
       "      <td>WD</td>\n",
       "      <td>Normal</td>\n",
       "      <td>205000</td>\n",
       "    </tr>\n",
       "    <tr>\n",
       "      <th>1218</th>\n",
       "      <td>1219</td>\n",
       "      <td>50</td>\n",
       "      <td>RM</td>\n",
       "      <td>52.0</td>\n",
       "      <td>6240</td>\n",
       "      <td>Pave</td>\n",
       "      <td>NaN</td>\n",
       "      <td>Reg</td>\n",
       "      <td>Lvl</td>\n",
       "      <td>AllPub</td>\n",
       "      <td>...</td>\n",
       "      <td>0</td>\n",
       "      <td>NaN</td>\n",
       "      <td>NaN</td>\n",
       "      <td>NaN</td>\n",
       "      <td>0</td>\n",
       "      <td>7</td>\n",
       "      <td>2006</td>\n",
       "      <td>WD</td>\n",
       "      <td>Normal</td>\n",
       "      <td>80500</td>\n",
       "    </tr>\n",
       "    <tr>\n",
       "      <th>882</th>\n",
       "      <td>883</td>\n",
       "      <td>60</td>\n",
       "      <td>RL</td>\n",
       "      <td>NaN</td>\n",
       "      <td>9636</td>\n",
       "      <td>Pave</td>\n",
       "      <td>NaN</td>\n",
       "      <td>IR1</td>\n",
       "      <td>Lvl</td>\n",
       "      <td>AllPub</td>\n",
       "      <td>...</td>\n",
       "      <td>0</td>\n",
       "      <td>NaN</td>\n",
       "      <td>MnPrv</td>\n",
       "      <td>NaN</td>\n",
       "      <td>0</td>\n",
       "      <td>12</td>\n",
       "      <td>2009</td>\n",
       "      <td>WD</td>\n",
       "      <td>Normal</td>\n",
       "      <td>178000</td>\n",
       "    </tr>\n",
       "  </tbody>\n",
       "</table>\n",
       "<p>10 rows × 81 columns</p>\n",
       "</div>"
      ],
      "text/plain": [
       "        Id  MSSubClass MSZoning  LotFrontage  LotArea Street Alley LotShape  \\\n",
       "820    821          60       RL         72.0     7226   Pave   NaN      IR1   \n",
       "1390  1391          20       RL         70.0     9100   Pave   NaN      Reg   \n",
       "535    536         190       RL         70.0     7000   Pave   NaN      Reg   \n",
       "1236  1237         160       RL         36.0     2628   Pave   NaN      Reg   \n",
       "1337  1338          30       RM        153.0     4118   Pave  Grvl      IR1   \n",
       "674    675          20       RL         80.0     9200   Pave   NaN      Reg   \n",
       "604    605          20       RL         88.0    12803   Pave   NaN      IR1   \n",
       "605    606          60       RL         85.0    13600   Pave   NaN      Reg   \n",
       "1218  1219          50       RM         52.0     6240   Pave   NaN      Reg   \n",
       "882    883          60       RL          NaN     9636   Pave   NaN      IR1   \n",
       "\n",
       "     LandContour Utilities  ... PoolArea PoolQC  Fence MiscFeature MiscVal  \\\n",
       "820          Lvl    AllPub  ...        0    NaN    NaN         NaN       0   \n",
       "1390         Lvl    AllPub  ...        0    NaN    NaN         NaN       0   \n",
       "535          Lvl    AllPub  ...        0    NaN    NaN         NaN       0   \n",
       "1236         Lvl    AllPub  ...        0    NaN    NaN         NaN       0   \n",
       "1337         Bnk    AllPub  ...        0    NaN    NaN         NaN       0   \n",
       "674          Lvl    AllPub  ...        0    NaN    NaN         NaN       0   \n",
       "604          Lvl    AllPub  ...        0    NaN    NaN         NaN       0   \n",
       "605          Lvl    AllPub  ...        0    NaN    NaN         NaN       0   \n",
       "1218         Lvl    AllPub  ...        0    NaN    NaN         NaN       0   \n",
       "882          Lvl    AllPub  ...        0    NaN  MnPrv         NaN       0   \n",
       "\n",
       "     MoSold YrSold  SaleType  SaleCondition  SalePrice  \n",
       "820       6   2008        WD         Normal     183000  \n",
       "1390      9   2006        WD         Normal     235000  \n",
       "535       1   2008        WD         Normal     107500  \n",
       "1236      6   2010        WD         Normal     175500  \n",
       "1337      3   2006        WD         Normal      52500  \n",
       "674       7   2008        WD         Normal     140000  \n",
       "604       9   2008        WD         Normal     221000  \n",
       "605      10   2009        WD         Normal     205000  \n",
       "1218      7   2006        WD         Normal      80500  \n",
       "882      12   2009        WD         Normal     178000  \n",
       "\n",
       "[10 rows x 81 columns]"
      ]
     },
     "execution_count": 362,
     "metadata": {},
     "output_type": "execute_result"
    }
   ],
   "source": [
    "housing_data.sample(10)"
   ]
  },
  {
   "cell_type": "code",
   "execution_count": 363,
   "id": "bd81975c-0a21-414b-8e20-3564d35b9f9b",
   "metadata": {},
   "outputs": [
    {
     "data": {
      "text/plain": [
       "663"
      ]
     },
     "execution_count": 363,
     "metadata": {},
     "output_type": "execute_result"
    }
   ],
   "source": [
    "housing_data['SalePrice'].nunique()"
   ]
  },
  {
   "cell_type": "code",
   "execution_count": 364,
   "id": "67d1046e-a1ad-412e-a7e8-a0d51729cec7",
   "metadata": {},
   "outputs": [
    {
     "data": {
      "text/plain": [
       "1073"
      ]
     },
     "execution_count": 364,
     "metadata": {},
     "output_type": "execute_result"
    }
   ],
   "source": [
    "housing_data['LotArea'].nunique()"
   ]
  },
  {
   "cell_type": "code",
   "execution_count": 365,
   "id": "64b05e52-72dc-4f7d-aca3-d043036b4d2f",
   "metadata": {},
   "outputs": [
    {
     "data": {
      "text/plain": [
       "count      1460.000000\n",
       "mean     180921.195890\n",
       "std       79442.502883\n",
       "min       34900.000000\n",
       "25%      129975.000000\n",
       "50%      163000.000000\n",
       "75%      214000.000000\n",
       "max      755000.000000\n",
       "Name: SalePrice, dtype: float64"
      ]
     },
     "execution_count": 365,
     "metadata": {},
     "output_type": "execute_result"
    }
   ],
   "source": [
    "housing_data['SalePrice'].describe()"
   ]
  },
  {
   "cell_type": "code",
   "execution_count": 366,
   "id": "b7e9928c-4785-4ee1-8150-cd0fa1ef3325",
   "metadata": {},
   "outputs": [
    {
     "data": {
      "text/plain": [
       "count      1460.000000\n",
       "mean      10516.828082\n",
       "std        9981.264932\n",
       "min        1300.000000\n",
       "25%        7553.500000\n",
       "50%        9478.500000\n",
       "75%       11601.500000\n",
       "max      215245.000000\n",
       "Name: LotArea, dtype: float64"
      ]
     },
     "execution_count": 366,
     "metadata": {},
     "output_type": "execute_result"
    }
   ],
   "source": [
    "housing_data['LotArea'].describe()"
   ]
  },
  {
   "cell_type": "code",
   "execution_count": 367,
   "id": "20149f80-07dc-4eaa-8d0e-7de6612a7dce",
   "metadata": {},
   "outputs": [
    {
     "name": "stdout",
     "output_type": "stream",
     "text": [
      "                 column_name  percent_missing\n",
      "Id                        Id         0.000000\n",
      "MSSubClass        MSSubClass         0.000000\n",
      "MSZoning            MSZoning         0.000000\n",
      "LotFrontage      LotFrontage        17.739726\n",
      "LotArea              LotArea         0.000000\n",
      "Street                Street         0.000000\n",
      "Alley                  Alley        93.767123\n",
      "LotShape            LotShape         0.000000\n",
      "LandContour      LandContour         0.000000\n",
      "Utilities          Utilities         0.000000\n",
      "LotConfig          LotConfig         0.000000\n",
      "LandSlope          LandSlope         0.000000\n",
      "Neighborhood    Neighborhood         0.000000\n",
      "Condition1        Condition1         0.000000\n",
      "Condition2        Condition2         0.000000\n",
      "BldgType            BldgType         0.000000\n",
      "HouseStyle        HouseStyle         0.000000\n",
      "OverallQual      OverallQual         0.000000\n",
      "OverallCond      OverallCond         0.000000\n",
      "YearBuilt          YearBuilt         0.000000\n",
      "YearRemodAdd    YearRemodAdd         0.000000\n",
      "RoofStyle          RoofStyle         0.000000\n",
      "RoofMatl            RoofMatl         0.000000\n",
      "Exterior1st      Exterior1st         0.000000\n",
      "Exterior2nd      Exterior2nd         0.000000\n",
      "MasVnrType        MasVnrType         0.547945\n",
      "MasVnrArea        MasVnrArea         0.547945\n",
      "ExterQual          ExterQual         0.000000\n",
      "ExterCond          ExterCond         0.000000\n",
      "Foundation        Foundation         0.000000\n",
      "BsmtQual            BsmtQual         2.534247\n",
      "BsmtCond            BsmtCond         2.534247\n",
      "BsmtExposure    BsmtExposure         2.602740\n",
      "BsmtFinType1    BsmtFinType1         2.534247\n",
      "BsmtFinSF1        BsmtFinSF1         0.000000\n",
      "BsmtFinType2    BsmtFinType2         2.602740\n",
      "BsmtFinSF2        BsmtFinSF2         0.000000\n",
      "BsmtUnfSF          BsmtUnfSF         0.000000\n",
      "TotalBsmtSF      TotalBsmtSF         0.000000\n",
      "Heating              Heating         0.000000\n",
      "HeatingQC          HeatingQC         0.000000\n",
      "CentralAir        CentralAir         0.000000\n",
      "Electrical        Electrical         0.068493\n",
      "1stFlrSF            1stFlrSF         0.000000\n",
      "2ndFlrSF            2ndFlrSF         0.000000\n",
      "LowQualFinSF    LowQualFinSF         0.000000\n",
      "GrLivArea          GrLivArea         0.000000\n",
      "BsmtFullBath    BsmtFullBath         0.000000\n",
      "BsmtHalfBath    BsmtHalfBath         0.000000\n",
      "FullBath            FullBath         0.000000\n",
      "HalfBath            HalfBath         0.000000\n",
      "BedroomAbvGr    BedroomAbvGr         0.000000\n",
      "KitchenAbvGr    KitchenAbvGr         0.000000\n",
      "KitchenQual      KitchenQual         0.000000\n",
      "TotRmsAbvGrd    TotRmsAbvGrd         0.000000\n",
      "Functional        Functional         0.000000\n",
      "Fireplaces        Fireplaces         0.000000\n",
      "FireplaceQu      FireplaceQu        47.260274\n",
      "GarageType        GarageType         5.547945\n",
      "GarageYrBlt      GarageYrBlt         5.547945\n",
      "GarageFinish    GarageFinish         5.547945\n",
      "GarageCars        GarageCars         0.000000\n",
      "GarageArea        GarageArea         0.000000\n",
      "GarageQual        GarageQual         5.547945\n",
      "GarageCond        GarageCond         5.547945\n",
      "PavedDrive        PavedDrive         0.000000\n",
      "WoodDeckSF        WoodDeckSF         0.000000\n",
      "OpenPorchSF      OpenPorchSF         0.000000\n",
      "EnclosedPorch  EnclosedPorch         0.000000\n",
      "3SsnPorch          3SsnPorch         0.000000\n",
      "ScreenPorch      ScreenPorch         0.000000\n",
      "PoolArea            PoolArea         0.000000\n",
      "PoolQC                PoolQC        99.520548\n",
      "Fence                  Fence        80.753425\n",
      "MiscFeature      MiscFeature        96.301370\n",
      "MiscVal              MiscVal         0.000000\n",
      "MoSold                MoSold         0.000000\n",
      "YrSold                YrSold         0.000000\n",
      "SaleType            SaleType         0.000000\n",
      "SaleCondition  SaleCondition         0.000000\n",
      "SalePrice          SalePrice         0.000000\n"
     ]
    }
   ],
   "source": [
    "pd.set_option('display.max_rows', None)\n",
    "print(get_percent_missing(housing_data))"
   ]
  },
  {
   "cell_type": "markdown",
   "id": "c8eb3ee3-085d-4b41-9a5f-c83a3805f870",
   "metadata": {},
   "source": [
    "#### Using Sale price coloumn for KNN and MEAN imputation task"
   ]
  },
  {
   "cell_type": "markdown",
   "id": "451c79fb-17ba-40ac-8f0b-87a8b2ec4837",
   "metadata": {},
   "source": [
    "#### Non Scaled dataframe Sale Price - take first 1000 rows"
   ]
  },
  {
   "cell_type": "code",
   "execution_count": 368,
   "id": "9cc1f97f-1b24-4570-8f6a-30426bd79269",
   "metadata": {},
   "outputs": [
    {
     "data": {
      "text/html": [
       "<div>\n",
       "<style scoped>\n",
       "    .dataframe tbody tr th:only-of-type {\n",
       "        vertical-align: middle;\n",
       "    }\n",
       "\n",
       "    .dataframe tbody tr th {\n",
       "        vertical-align: top;\n",
       "    }\n",
       "\n",
       "    .dataframe thead th {\n",
       "        text-align: right;\n",
       "    }\n",
       "</style>\n",
       "<table border=\"1\" class=\"dataframe\">\n",
       "  <thead>\n",
       "    <tr style=\"text-align: right;\">\n",
       "      <th></th>\n",
       "      <th>SalePrice</th>\n",
       "      <th>sp_copy_1_percent</th>\n",
       "      <th>sp_copy_5_percent</th>\n",
       "      <th>sp_copy_10_percent</th>\n",
       "    </tr>\n",
       "  </thead>\n",
       "  <tbody>\n",
       "    <tr>\n",
       "      <th>0</th>\n",
       "      <td>208500</td>\n",
       "      <td>208500</td>\n",
       "      <td>208500</td>\n",
       "      <td>208500</td>\n",
       "    </tr>\n",
       "    <tr>\n",
       "      <th>1</th>\n",
       "      <td>181500</td>\n",
       "      <td>181500</td>\n",
       "      <td>181500</td>\n",
       "      <td>181500</td>\n",
       "    </tr>\n",
       "    <tr>\n",
       "      <th>2</th>\n",
       "      <td>223500</td>\n",
       "      <td>223500</td>\n",
       "      <td>223500</td>\n",
       "      <td>223500</td>\n",
       "    </tr>\n",
       "    <tr>\n",
       "      <th>3</th>\n",
       "      <td>140000</td>\n",
       "      <td>140000</td>\n",
       "      <td>140000</td>\n",
       "      <td>140000</td>\n",
       "    </tr>\n",
       "    <tr>\n",
       "      <th>4</th>\n",
       "      <td>250000</td>\n",
       "      <td>250000</td>\n",
       "      <td>250000</td>\n",
       "      <td>250000</td>\n",
       "    </tr>\n",
       "  </tbody>\n",
       "</table>\n",
       "</div>"
      ],
      "text/plain": [
       "   SalePrice  sp_copy_1_percent  sp_copy_5_percent  sp_copy_10_percent\n",
       "0     208500             208500             208500              208500\n",
       "1     181500             181500             181500              181500\n",
       "2     223500             223500             223500              223500\n",
       "3     140000             140000             140000              140000\n",
       "4     250000             250000             250000              250000"
      ]
     },
     "execution_count": 368,
     "metadata": {},
     "output_type": "execute_result"
    }
   ],
   "source": [
    "df_saleprice = housing_data[['SalePrice']][:1000]\n",
    "df_saleprice['sp_copy_1_percent'] = df_saleprice[['SalePrice']]\n",
    "df_saleprice['sp_copy_5_percent'] = df_saleprice[['SalePrice']]\n",
    "df_saleprice['sp_copy_10_percent'] = df_saleprice[['SalePrice']]\n",
    "df_saleprice.head()"
   ]
  },
  {
   "cell_type": "code",
   "execution_count": 369,
   "id": "f462f065-9f37-44f1-a22e-92e610dae2e9",
   "metadata": {},
   "outputs": [
    {
     "data": {
      "text/plain": [
       "1000"
      ]
     },
     "execution_count": 369,
     "metadata": {},
     "output_type": "execute_result"
    }
   ],
   "source": [
    "len(df_saleprice)"
   ]
  },
  {
   "cell_type": "markdown",
   "id": "03407bbd-f8a7-4f6c-a7c3-64a865ed3f7e",
   "metadata": {},
   "source": [
    "#### Scaled Dataframe SalePrice - take first 1000 rows"
   ]
  },
  {
   "cell_type": "code",
   "execution_count": 370,
   "id": "e461b1ef-df2c-410f-aea8-abe954fa9afd",
   "metadata": {},
   "outputs": [
    {
     "data": {
      "text/html": [
       "<div>\n",
       "<style scoped>\n",
       "    .dataframe tbody tr th:only-of-type {\n",
       "        vertical-align: middle;\n",
       "    }\n",
       "\n",
       "    .dataframe tbody tr th {\n",
       "        vertical-align: top;\n",
       "    }\n",
       "\n",
       "    .dataframe thead th {\n",
       "        text-align: right;\n",
       "    }\n",
       "</style>\n",
       "<table border=\"1\" class=\"dataframe\">\n",
       "  <thead>\n",
       "    <tr style=\"text-align: right;\">\n",
       "      <th></th>\n",
       "      <th>SalePrice</th>\n",
       "      <th>sp_copy_1_percent</th>\n",
       "      <th>sp_copy_5_percent</th>\n",
       "      <th>sp_copy_10_percent</th>\n",
       "    </tr>\n",
       "  </thead>\n",
       "  <tbody>\n",
       "    <tr>\n",
       "      <th>0</th>\n",
       "      <td>0.241078</td>\n",
       "      <td>0.241078</td>\n",
       "      <td>0.241078</td>\n",
       "      <td>0.241078</td>\n",
       "    </tr>\n",
       "    <tr>\n",
       "      <th>1</th>\n",
       "      <td>0.203583</td>\n",
       "      <td>0.203583</td>\n",
       "      <td>0.203583</td>\n",
       "      <td>0.203583</td>\n",
       "    </tr>\n",
       "    <tr>\n",
       "      <th>2</th>\n",
       "      <td>0.261908</td>\n",
       "      <td>0.261908</td>\n",
       "      <td>0.261908</td>\n",
       "      <td>0.261908</td>\n",
       "    </tr>\n",
       "    <tr>\n",
       "      <th>3</th>\n",
       "      <td>0.145952</td>\n",
       "      <td>0.145952</td>\n",
       "      <td>0.145952</td>\n",
       "      <td>0.145952</td>\n",
       "    </tr>\n",
       "    <tr>\n",
       "      <th>4</th>\n",
       "      <td>0.298709</td>\n",
       "      <td>0.298709</td>\n",
       "      <td>0.298709</td>\n",
       "      <td>0.298709</td>\n",
       "    </tr>\n",
       "  </tbody>\n",
       "</table>\n",
       "</div>"
      ],
      "text/plain": [
       "   SalePrice  sp_copy_1_percent  sp_copy_5_percent  sp_copy_10_percent\n",
       "0   0.241078           0.241078           0.241078            0.241078\n",
       "1   0.203583           0.203583           0.203583            0.203583\n",
       "2   0.261908           0.261908           0.261908            0.261908\n",
       "3   0.145952           0.145952           0.145952            0.145952\n",
       "4   0.298709           0.298709           0.298709            0.298709"
      ]
     },
     "execution_count": 370,
     "metadata": {},
     "output_type": "execute_result"
    }
   ],
   "source": [
    "scaler = MinMaxScaler()\n",
    "df_saleprice_scaled = df_saleprice.copy(deep=True)\n",
    "df_saleprice_scaled = pd.DataFrame(scaler.fit_transform(df_saleprice_scaled), columns = df_saleprice_scaled.columns)\n",
    "df_saleprice_scaled.head()"
   ]
  },
  {
   "cell_type": "markdown",
   "id": "a66683c4-f66a-4aa1-ab8a-f28087b60b6c",
   "metadata": {},
   "source": [
    "#### Check % missing values in this dataframe"
   ]
  },
  {
   "cell_type": "code",
   "execution_count": 371,
   "id": "0075fa0f-4b82-4089-ab81-e5282497c4a3",
   "metadata": {},
   "outputs": [
    {
     "name": "stdout",
     "output_type": "stream",
     "text": [
      "                           column_name  percent_missing\n",
      "SalePrice                    SalePrice              0.0\n",
      "sp_copy_1_percent    sp_copy_1_percent              0.0\n",
      "sp_copy_5_percent    sp_copy_5_percent              0.0\n",
      "sp_copy_10_percent  sp_copy_10_percent              0.0\n"
     ]
    }
   ],
   "source": [
    "print(get_percent_missing(df_saleprice))"
   ]
  },
  {
   "cell_type": "markdown",
   "id": "619ef99f-55c0-422c-aaa8-73cd71fcf2fb",
   "metadata": {},
   "source": [
    "#### Create 1%, 5% and 10% missing data"
   ]
  },
  {
   "cell_type": "code",
   "execution_count": 372,
   "id": "82df5098-4176-4fba-922f-ca84c0466f2a",
   "metadata": {},
   "outputs": [],
   "source": [
    "create_missing(df_saleprice, 0.01, 'sp_copy_1_percent')\n",
    "create_missing(df_saleprice, 0.05, 'sp_copy_5_percent')\n",
    "create_missing(df_saleprice, 0.1, 'sp_copy_10_percent')"
   ]
  },
  {
   "cell_type": "code",
   "execution_count": 373,
   "id": "0e90ae04-cd10-4507-a851-c187010f0be0",
   "metadata": {},
   "outputs": [],
   "source": [
    "create_missing(df_saleprice_scaled, 0.01, 'sp_copy_1_percent')\n",
    "create_missing(df_saleprice_scaled, 0.05, 'sp_copy_5_percent')\n",
    "create_missing(df_saleprice_scaled, 0.1, 'sp_copy_10_percent')"
   ]
  },
  {
   "cell_type": "markdown",
   "id": "a8237a82-5a33-4ce9-b4c7-a48ede4f5fef",
   "metadata": {},
   "source": [
    "#### With/Without scaling dataframe missing values check"
   ]
  },
  {
   "cell_type": "code",
   "execution_count": 374,
   "id": "2794306d-89c7-4518-8979-9edb3d9441b1",
   "metadata": {},
   "outputs": [
    {
     "name": "stdout",
     "output_type": "stream",
     "text": [
      "                           column_name  percent_missing\n",
      "SalePrice                    SalePrice              0.0\n",
      "sp_copy_1_percent    sp_copy_1_percent              1.0\n",
      "sp_copy_5_percent    sp_copy_5_percent              5.0\n",
      "sp_copy_10_percent  sp_copy_10_percent             10.0\n"
     ]
    }
   ],
   "source": [
    "print(get_percent_missing(df_saleprice))"
   ]
  },
  {
   "cell_type": "code",
   "execution_count": 375,
   "id": "8351dbe2-b388-451d-9238-52c4ccabd425",
   "metadata": {},
   "outputs": [
    {
     "name": "stdout",
     "output_type": "stream",
     "text": [
      "                           column_name  percent_missing\n",
      "SalePrice                    SalePrice              0.0\n",
      "sp_copy_1_percent    sp_copy_1_percent              1.0\n",
      "sp_copy_5_percent    sp_copy_5_percent              5.0\n",
      "sp_copy_10_percent  sp_copy_10_percent             10.0\n"
     ]
    }
   ],
   "source": [
    "print(get_percent_missing(df_saleprice_scaled))"
   ]
  },
  {
   "cell_type": "code",
   "execution_count": 376,
   "id": "b11b093f-110b-4ef3-9d00-ac4fed45a956",
   "metadata": {},
   "outputs": [
    {
     "data": {
      "text/plain": [
       "10"
      ]
     },
     "execution_count": 376,
     "metadata": {},
     "output_type": "execute_result"
    }
   ],
   "source": [
    "df_saleprice['sp_copy_1_percent'].isna().sum()"
   ]
  },
  {
   "cell_type": "markdown",
   "id": "360e0010-e085-435c-8902-80c6a7ea78be",
   "metadata": {},
   "source": [
    "#### Store indices of missing values"
   ]
  },
  {
   "cell_type": "code",
   "execution_count": 377,
   "id": "e546096c-ce35-448e-aa97-0943d3535a87",
   "metadata": {},
   "outputs": [],
   "source": [
    "# Store Index of NaN values in each coloumns\n",
    "sp_1_idx = list(np.where(df_saleprice['sp_copy_1_percent'].isna())[0])\n",
    "sp_5_idx = list(np.where(df_saleprice['sp_copy_5_percent'].isna())[0])\n",
    "sp_10_idx = list(np.where(df_saleprice['sp_copy_10_percent'].isna())[0])"
   ]
  },
  {
   "cell_type": "code",
   "execution_count": 378,
   "id": "d409e2a5-b3a9-4ae1-9b17-88b7c642692d",
   "metadata": {},
   "outputs": [
    {
     "name": "stdout",
     "output_type": "stream",
     "text": [
      "10\n",
      "50\n",
      "100\n"
     ]
    }
   ],
   "source": [
    "print(len(sp_1_idx))\n",
    "print(len(sp_5_idx))\n",
    "print(len(sp_10_idx))"
   ]
  },
  {
   "cell_type": "code",
   "execution_count": 379,
   "id": "5839460a-e736-42e9-9a13-d5bab5683115",
   "metadata": {},
   "outputs": [
    {
     "name": "stdout",
     "output_type": "stream",
     "text": [
      "Length of sp_1_idx is 10 and it contains 1.0% of total data in column | Total rows: 1000\n",
      "Length of sp_5_idx is 50 and it contains 5.0% of total data in column | Total rows: 1000\n",
      "Length of sp_10_idx is 100 and it contains 10.0% of total data in column | Total rows: 1000\n"
     ]
    }
   ],
   "source": [
    "print(f\"Length of sp_1_idx is {len(sp_1_idx)} and it contains {(len(sp_1_idx)/len(df_saleprice['sp_copy_1_percent']))*100}% of total data in column | Total rows: {len(df_saleprice['sp_copy_1_percent'])}\")\n",
    "print(f\"Length of sp_5_idx is {len(sp_5_idx)} and it contains {(len(sp_5_idx)/len(df_saleprice['sp_copy_5_percent']))*100}% of total data in column | Total rows: {len(df_saleprice['sp_copy_1_percent'])}\")\n",
    "print(f\"Length of sp_10_idx is {len(sp_10_idx)} and it contains {(len(sp_10_idx)/len(df_saleprice['sp_copy_10_percent']))*100}% of total data in column | Total rows: {len(df_saleprice['sp_copy_1_percent'])}\")"
   ]
  },
  {
   "cell_type": "markdown",
   "id": "c1464c79-c0a9-4640-92dd-f0d5131634ab",
   "metadata": {},
   "source": [
    "### Perform KNN to df_saleprice and df_saleprice_scaled dataframe"
   ]
  },
  {
   "cell_type": "code",
   "execution_count": 380,
   "id": "08fa2436-ffb8-4b5d-a7a1-9e2d63b14562",
   "metadata": {},
   "outputs": [],
   "source": [
    "df_saleprice1 = df_saleprice.copy(deep=True)\n",
    "imputer = KNNImputer(n_neighbors=5)\n",
    "imputed_saleprice_df = pd.DataFrame(imputer.fit_transform(df_saleprice1), columns = df_saleprice1.columns)"
   ]
  },
  {
   "cell_type": "code",
   "execution_count": 381,
   "id": "205c7a96-3f1c-42a4-91de-f22f15ce9cb2",
   "metadata": {},
   "outputs": [],
   "source": [
    "df_saleprice_scaled1 = df_saleprice_scaled.copy(deep=True)\n",
    "imputer = KNNImputer(n_neighbors=5)\n",
    "imputed_saleprice_scaled_df = pd.DataFrame(imputer.fit_transform(df_saleprice_scaled1), columns = df_saleprice_scaled1.columns)"
   ]
  },
  {
   "cell_type": "code",
   "execution_count": 382,
   "id": "a482f58d-73b6-423c-b97a-140884830a0f",
   "metadata": {},
   "outputs": [
    {
     "data": {
      "text/html": [
       "<div>\n",
       "<style scoped>\n",
       "    .dataframe tbody tr th:only-of-type {\n",
       "        vertical-align: middle;\n",
       "    }\n",
       "\n",
       "    .dataframe tbody tr th {\n",
       "        vertical-align: top;\n",
       "    }\n",
       "\n",
       "    .dataframe thead th {\n",
       "        text-align: right;\n",
       "    }\n",
       "</style>\n",
       "<table border=\"1\" class=\"dataframe\">\n",
       "  <thead>\n",
       "    <tr style=\"text-align: right;\">\n",
       "      <th></th>\n",
       "      <th>SalePrice</th>\n",
       "      <th>sp_copy_1_percent</th>\n",
       "      <th>sp_copy_5_percent</th>\n",
       "      <th>sp_copy_10_percent</th>\n",
       "    </tr>\n",
       "  </thead>\n",
       "  <tbody>\n",
       "    <tr>\n",
       "      <th>0</th>\n",
       "      <td>208500.0</td>\n",
       "      <td>208500.0</td>\n",
       "      <td>208500.0</td>\n",
       "      <td>208500.0</td>\n",
       "    </tr>\n",
       "    <tr>\n",
       "      <th>1</th>\n",
       "      <td>181500.0</td>\n",
       "      <td>181500.0</td>\n",
       "      <td>181500.0</td>\n",
       "      <td>181500.0</td>\n",
       "    </tr>\n",
       "    <tr>\n",
       "      <th>2</th>\n",
       "      <td>223500.0</td>\n",
       "      <td>223500.0</td>\n",
       "      <td>223500.0</td>\n",
       "      <td>223500.0</td>\n",
       "    </tr>\n",
       "    <tr>\n",
       "      <th>3</th>\n",
       "      <td>140000.0</td>\n",
       "      <td>140000.0</td>\n",
       "      <td>140000.0</td>\n",
       "      <td>140000.0</td>\n",
       "    </tr>\n",
       "    <tr>\n",
       "      <th>4</th>\n",
       "      <td>250000.0</td>\n",
       "      <td>250000.0</td>\n",
       "      <td>250000.0</td>\n",
       "      <td>250000.0</td>\n",
       "    </tr>\n",
       "  </tbody>\n",
       "</table>\n",
       "</div>"
      ],
      "text/plain": [
       "   SalePrice  sp_copy_1_percent  sp_copy_5_percent  sp_copy_10_percent\n",
       "0   208500.0           208500.0           208500.0            208500.0\n",
       "1   181500.0           181500.0           181500.0            181500.0\n",
       "2   223500.0           223500.0           223500.0            223500.0\n",
       "3   140000.0           140000.0           140000.0            140000.0\n",
       "4   250000.0           250000.0           250000.0            250000.0"
      ]
     },
     "execution_count": 382,
     "metadata": {},
     "output_type": "execute_result"
    }
   ],
   "source": [
    "imputed_saleprice_df.head()"
   ]
  },
  {
   "cell_type": "code",
   "execution_count": 383,
   "id": "11f8f5ff-f06d-4ec2-a4e3-1324e807a537",
   "metadata": {},
   "outputs": [
    {
     "data": {
      "text/html": [
       "<div>\n",
       "<style scoped>\n",
       "    .dataframe tbody tr th:only-of-type {\n",
       "        vertical-align: middle;\n",
       "    }\n",
       "\n",
       "    .dataframe tbody tr th {\n",
       "        vertical-align: top;\n",
       "    }\n",
       "\n",
       "    .dataframe thead th {\n",
       "        text-align: right;\n",
       "    }\n",
       "</style>\n",
       "<table border=\"1\" class=\"dataframe\">\n",
       "  <thead>\n",
       "    <tr style=\"text-align: right;\">\n",
       "      <th></th>\n",
       "      <th>SalePrice</th>\n",
       "      <th>sp_copy_1_percent</th>\n",
       "      <th>sp_copy_5_percent</th>\n",
       "      <th>sp_copy_10_percent</th>\n",
       "    </tr>\n",
       "  </thead>\n",
       "  <tbody>\n",
       "    <tr>\n",
       "      <th>0</th>\n",
       "      <td>0.241078</td>\n",
       "      <td>0.241078</td>\n",
       "      <td>0.240855</td>\n",
       "      <td>0.241078</td>\n",
       "    </tr>\n",
       "    <tr>\n",
       "      <th>1</th>\n",
       "      <td>0.203583</td>\n",
       "      <td>0.203583</td>\n",
       "      <td>0.203583</td>\n",
       "      <td>0.203583</td>\n",
       "    </tr>\n",
       "    <tr>\n",
       "      <th>2</th>\n",
       "      <td>0.261908</td>\n",
       "      <td>0.261908</td>\n",
       "      <td>0.261908</td>\n",
       "      <td>0.261908</td>\n",
       "    </tr>\n",
       "    <tr>\n",
       "      <th>3</th>\n",
       "      <td>0.145952</td>\n",
       "      <td>0.145952</td>\n",
       "      <td>0.145952</td>\n",
       "      <td>0.145952</td>\n",
       "    </tr>\n",
       "    <tr>\n",
       "      <th>4</th>\n",
       "      <td>0.298709</td>\n",
       "      <td>0.298709</td>\n",
       "      <td>0.298709</td>\n",
       "      <td>0.298709</td>\n",
       "    </tr>\n",
       "  </tbody>\n",
       "</table>\n",
       "</div>"
      ],
      "text/plain": [
       "   SalePrice  sp_copy_1_percent  sp_copy_5_percent  sp_copy_10_percent\n",
       "0   0.241078           0.241078           0.240855            0.241078\n",
       "1   0.203583           0.203583           0.203583            0.203583\n",
       "2   0.261908           0.261908           0.261908            0.261908\n",
       "3   0.145952           0.145952           0.145952            0.145952\n",
       "4   0.298709           0.298709           0.298709            0.298709"
      ]
     },
     "execution_count": 383,
     "metadata": {},
     "output_type": "execute_result"
    }
   ],
   "source": [
    "imputed_saleprice_scaled_df.head()"
   ]
  },
  {
   "cell_type": "markdown",
   "id": "d9fd7fa1-4ce0-43be-9955-55ef759d930b",
   "metadata": {},
   "source": [
    "#### Check % missing in saleprice and saleprice_scaled DF"
   ]
  },
  {
   "cell_type": "code",
   "execution_count": 384,
   "id": "9ed0d36a-9584-4e3b-9201-2ac36827bce9",
   "metadata": {},
   "outputs": [
    {
     "name": "stdout",
     "output_type": "stream",
     "text": [
      "                           column_name  percent_missing\n",
      "SalePrice                    SalePrice              0.0\n",
      "sp_copy_1_percent    sp_copy_1_percent              0.0\n",
      "sp_copy_5_percent    sp_copy_5_percent              0.0\n",
      "sp_copy_10_percent  sp_copy_10_percent              0.0\n"
     ]
    }
   ],
   "source": [
    "print(get_percent_missing(imputed_saleprice_df))"
   ]
  },
  {
   "cell_type": "code",
   "execution_count": 385,
   "id": "7c842fce-bbd5-4c2c-bb1a-db5df92f6315",
   "metadata": {},
   "outputs": [
    {
     "name": "stdout",
     "output_type": "stream",
     "text": [
      "                           column_name  percent_missing\n",
      "SalePrice                    SalePrice              0.0\n",
      "sp_copy_1_percent    sp_copy_1_percent              0.0\n",
      "sp_copy_5_percent    sp_copy_5_percent              0.0\n",
      "sp_copy_10_percent  sp_copy_10_percent              0.0\n"
     ]
    }
   ],
   "source": [
    "print(get_percent_missing(imputed_saleprice_scaled_df))"
   ]
  },
  {
   "cell_type": "markdown",
   "id": "ac47abb1-df5f-4686-bc67-6617140c008c",
   "metadata": {},
   "source": [
    "#### Store the list of disfferences between Org. and Imputed Value"
   ]
  },
  {
   "cell_type": "code",
   "execution_count": 386,
   "id": "99e04554-568d-4efa-a110-768b50dfaee6",
   "metadata": {},
   "outputs": [],
   "source": [
    "# create list of difference bwtween imputed and orginal value\n",
    "\n",
    "sp_diff_1 = []\n",
    "sp_diff_5 = []\n",
    "sp_diff_10 = []\n",
    "count = 0\n",
    "\n",
    "for i in sp_1_idx:\n",
    "    count +=1\n",
    "    diff1 = abs(imputed_saleprice_df['sp_copy_1_percent'][i] - imputed_saleprice_df['SalePrice'][i])\n",
    "    sp_diff_1.append(diff1)\n",
    "    \n",
    "\n",
    "for i in sp_5_idx:\n",
    "    diff5 = abs(imputed_saleprice_df['sp_copy_5_percent'][i] - imputed_saleprice_df['SalePrice'][i])\n",
    "    sp_diff_5.append(diff5)\n",
    "\n",
    "for i in sp_10_idx:\n",
    "    diff10 = abs(imputed_saleprice_df['sp_copy_10_percent'][i] - imputed_saleprice_df['SalePrice'][i])\n",
    "    sp_diff_10.append(diff10)"
   ]
  },
  {
   "cell_type": "code",
   "execution_count": 387,
   "id": "92204f8a-497c-470d-a770-59165d226cc9",
   "metadata": {},
   "outputs": [
    {
     "name": "stdout",
     "output_type": "stream",
     "text": [
      "10\n",
      "50\n",
      "100\n"
     ]
    }
   ],
   "source": [
    "print(len(sp_diff_1))\n",
    "print(len(sp_diff_5))\n",
    "print(len(sp_diff_10))"
   ]
  },
  {
   "cell_type": "code",
   "execution_count": 388,
   "id": "b8875fff-0289-4dd9-92c1-78dc9b730d22",
   "metadata": {},
   "outputs": [],
   "source": [
    "# create list of difference bwtween imputed and orginal value\n",
    "\n",
    "sp_scaled_diff_1 = []\n",
    "sp_scaled_diff_5 = []\n",
    "sp_scaled_diff_10 = []\n",
    "count = 0\n",
    "\n",
    "for i in sp_1_idx:\n",
    "    count +=1\n",
    "    diff1 = abs(imputed_saleprice_scaled_df['sp_copy_1_percent'][i] - imputed_saleprice_scaled_df['SalePrice'][i])\n",
    "    sp_scaled_diff_1.append(diff1)\n",
    "    \n",
    "\n",
    "for i in sp_5_idx:\n",
    "    diff5 = abs(imputed_saleprice_scaled_df['sp_copy_5_percent'][i] - imputed_saleprice_scaled_df['SalePrice'][i])\n",
    "    sp_scaled_diff_5.append(diff5)\n",
    "\n",
    "for i in sp_10_idx:\n",
    "    diff10 = abs(imputed_saleprice_scaled_df['sp_copy_10_percent'][i] - imputed_saleprice_scaled_df['SalePrice'][i])\n",
    "    sp_scaled_diff_10.append(diff10)"
   ]
  },
  {
   "cell_type": "code",
   "execution_count": 389,
   "id": "40192344-79a4-444c-a12a-2201dc5aa0c1",
   "metadata": {},
   "outputs": [
    {
     "name": "stdout",
     "output_type": "stream",
     "text": [
      "10\n",
      "50\n",
      "100\n"
     ]
    }
   ],
   "source": [
    "print(len(sp_scaled_diff_1))\n",
    "print(len(sp_scaled_diff_5))\n",
    "print(len(sp_scaled_diff_10))"
   ]
  },
  {
   "cell_type": "code",
   "execution_count": 390,
   "id": "a95bd45c-8a2f-4159-8306-399ec18a4c0f",
   "metadata": {},
   "outputs": [
    {
     "data": {
      "text/plain": [
       "[0.0, 0.0, 0.0, 0.0, 0.0]"
      ]
     },
     "execution_count": 390,
     "metadata": {},
     "output_type": "execute_result"
    }
   ],
   "source": [
    "sp_scaled_diff_1[:5]"
   ]
  },
  {
   "cell_type": "code",
   "execution_count": 391,
   "id": "0f73d420-8842-4062-ae17-158a0a25e169",
   "metadata": {},
   "outputs": [
    {
     "data": {
      "text/plain": [
       "[10.0, 20.0, 80.0, 220.0, 0.0]"
      ]
     },
     "execution_count": 391,
     "metadata": {},
     "output_type": "execute_result"
    }
   ],
   "source": [
    "sp_diff_1[:5]"
   ]
  },
  {
   "cell_type": "markdown",
   "id": "a40fd400-913b-4011-b0b9-dd3ca0d5827a",
   "metadata": {},
   "source": [
    "#### Calculate the mean and var of list of diff. KNN - SalePrice"
   ]
  },
  {
   "cell_type": "code",
   "execution_count": 392,
   "id": "80267827-7f73-49ff-b200-27cdb2963756",
   "metadata": {},
   "outputs": [
    {
     "name": "stdout",
     "output_type": "stream",
     "text": [
      "The mean of 1% is 170.0 and varience 1% is 42400.0\n",
      "The mean of 5% is 444.9439999999997 and varience 5% is 2554554.1584639903\n",
      "The mean of 10% is 444.9439999999997 and varience 10% is 6304766.8341439795\n"
     ]
    }
   ],
   "source": [
    "m1 = sum(sp_diff_1) / len(sp_diff_1)\n",
    "\n",
    "# calculate variance using a list comprehension\n",
    "var_res1 = sum((xi - m1) ** 2 for xi in sp_diff_1) / len(sp_diff_1)\n",
    "\n",
    "m5 = sum(sp_diff_5) / len(sp_diff_5)\n",
    "\n",
    "# calculate variance using a list comprehension\n",
    "var_res5 = sum((xii - m5) ** 2 for xii in sp_diff_5) / len(sp_diff_5)\n",
    "\n",
    "\n",
    "m10 = sum(sp_diff_10) / len(sp_diff_10)\n",
    "\n",
    "# calculate variance using a list comprehension\n",
    "var_res10 = sum((xiii - m10) ** 2 for xiii in sp_diff_10) / len(sp_diff_10)\n",
    "\n",
    "print(f\"The mean of 1% is {m1} and varience 1% is {var_res1}\")\n",
    "print(f\"The mean of 5% is {m5} and varience 5% is {var_res5}\")\n",
    "print(f\"The mean of 10% is {m5} and varience 10% is {var_res10}\")"
   ]
  },
  {
   "cell_type": "code",
   "execution_count": 393,
   "id": "358545ff-2fcf-4c99-9049-4eaf6dd110bd",
   "metadata": {},
   "outputs": [],
   "source": [
    "df_knn_saleprice = pd.DataFrame.from_dict({'1%_saleprice': [m1, var_res1],\n",
    " '5%_saleprice': [m5, var_res5],\n",
    " '10%_saleprice': [m10, var_res10]}, orient='index')\n",
    "df_knn_saleprice.columns=['diff. list Mean(KNN)', 'diff. list Var.(KNN)']"
   ]
  },
  {
   "cell_type": "code",
   "execution_count": 394,
   "id": "3714c8f9-58db-40a7-b5a2-6bb7e788b734",
   "metadata": {},
   "outputs": [
    {
     "data": {
      "text/html": [
       "<div>\n",
       "<style scoped>\n",
       "    .dataframe tbody tr th:only-of-type {\n",
       "        vertical-align: middle;\n",
       "    }\n",
       "\n",
       "    .dataframe tbody tr th {\n",
       "        vertical-align: top;\n",
       "    }\n",
       "\n",
       "    .dataframe thead th {\n",
       "        text-align: right;\n",
       "    }\n",
       "</style>\n",
       "<table border=\"1\" class=\"dataframe\">\n",
       "  <thead>\n",
       "    <tr style=\"text-align: right;\">\n",
       "      <th></th>\n",
       "      <th>diff. list Mean(KNN)</th>\n",
       "      <th>diff. list Var.(KNN)</th>\n",
       "    </tr>\n",
       "  </thead>\n",
       "  <tbody>\n",
       "    <tr>\n",
       "      <th>1%_saleprice</th>\n",
       "      <td>170.000</td>\n",
       "      <td>4.240000e+04</td>\n",
       "    </tr>\n",
       "    <tr>\n",
       "      <th>5%_saleprice</th>\n",
       "      <td>444.944</td>\n",
       "      <td>2.554554e+06</td>\n",
       "    </tr>\n",
       "    <tr>\n",
       "      <th>10%_saleprice</th>\n",
       "      <td>564.784</td>\n",
       "      <td>6.304767e+06</td>\n",
       "    </tr>\n",
       "  </tbody>\n",
       "</table>\n",
       "</div>"
      ],
      "text/plain": [
       "               diff. list Mean(KNN)  diff. list Var.(KNN)\n",
       "1%_saleprice                170.000          4.240000e+04\n",
       "5%_saleprice                444.944          2.554554e+06\n",
       "10%_saleprice               564.784          6.304767e+06"
      ]
     },
     "execution_count": 394,
     "metadata": {},
     "output_type": "execute_result"
    }
   ],
   "source": [
    "df_knn_saleprice"
   ]
  },
  {
   "cell_type": "markdown",
   "id": "fd7608a8-c5fb-425c-a340-af01801ee349",
   "metadata": {},
   "source": [
    "#### Calculate the mean and var of list of diff. KNN - SalePrice scaled"
   ]
  },
  {
   "cell_type": "code",
   "execution_count": 395,
   "id": "bb03017f-3d91-48d9-8ebf-7cb5c25fadc3",
   "metadata": {},
   "outputs": [
    {
     "name": "stdout",
     "output_type": "stream",
     "text": [
      "The mean of 1% is 0.0 and varience 1% is 0.0\n",
      "The mean of 5% is 2.6301902513541363e-05 and varience 5% is 2.134349753649814e-08\n",
      "The mean of 10% is 2.6301902513541363e-05 and varience 10% is 1.417383473391258e-08\n"
     ]
    }
   ],
   "source": [
    "m1 = sum(sp_scaled_diff_1) / len(sp_scaled_diff_1)\n",
    "\n",
    "# calculate variance using a list comprehension\n",
    "var_res1 = sum((xi - m1) ** 2 for xi in sp_scaled_diff_1) / len(sp_scaled_diff_1)\n",
    "\n",
    "m5 = sum(sp_scaled_diff_5) / len(sp_scaled_diff_5)\n",
    "\n",
    "# calculate variance using a list comprehension\n",
    "var_res5 = sum((xii - m5) ** 2 for xii in sp_scaled_diff_5) / len(sp_scaled_diff_5)\n",
    "\n",
    "\n",
    "m10 = sum(sp_scaled_diff_10) / len(sp_scaled_diff_10)\n",
    "\n",
    "# calculate variance using a list comprehension\n",
    "var_res10 = sum((xiii - m10) ** 2 for xiii in sp_scaled_diff_10) / len(sp_scaled_diff_10)\n",
    "\n",
    "print(f\"The mean of 1% is {m1} and varience 1% is {var_res1}\")\n",
    "print(f\"The mean of 5% is {m5} and varience 5% is {var_res5}\")\n",
    "print(f\"The mean of 10% is {m5} and varience 10% is {var_res10}\")"
   ]
  },
  {
   "cell_type": "code",
   "execution_count": 396,
   "id": "290d8db2-c9f4-4028-ab44-ad68c9e7b3c5",
   "metadata": {},
   "outputs": [],
   "source": [
    "df_knn_saleprice_scaled = pd.DataFrame.from_dict({'1%_saleprice': [m1, var_res1],\n",
    " '5%_saleprice': [m5, var_res5],\n",
    " '10%_saleprice': [m10, var_res10]}, orient='index')\n",
    "df_knn_saleprice_scaled.columns=['diff. list Mean(KNN) scaled', 'diff. list Var.(KNN) scaled']"
   ]
  },
  {
   "cell_type": "code",
   "execution_count": 397,
   "id": "89347fd7-d87d-42bb-b375-a75417c395de",
   "metadata": {},
   "outputs": [
    {
     "data": {
      "text/html": [
       "<div>\n",
       "<style scoped>\n",
       "    .dataframe tbody tr th:only-of-type {\n",
       "        vertical-align: middle;\n",
       "    }\n",
       "\n",
       "    .dataframe tbody tr th {\n",
       "        vertical-align: top;\n",
       "    }\n",
       "\n",
       "    .dataframe thead th {\n",
       "        text-align: right;\n",
       "    }\n",
       "</style>\n",
       "<table border=\"1\" class=\"dataframe\">\n",
       "  <thead>\n",
       "    <tr style=\"text-align: right;\">\n",
       "      <th></th>\n",
       "      <th>diff. list Mean(KNN) scaled</th>\n",
       "      <th>diff. list Var.(KNN) scaled</th>\n",
       "    </tr>\n",
       "  </thead>\n",
       "  <tbody>\n",
       "    <tr>\n",
       "      <th>1%_saleprice</th>\n",
       "      <td>0.000000</td>\n",
       "      <td>0.000000e+00</td>\n",
       "    </tr>\n",
       "    <tr>\n",
       "      <th>5%_saleprice</th>\n",
       "      <td>0.000026</td>\n",
       "      <td>2.134350e-08</td>\n",
       "    </tr>\n",
       "    <tr>\n",
       "      <th>10%_saleprice</th>\n",
       "      <td>0.000032</td>\n",
       "      <td>1.417383e-08</td>\n",
       "    </tr>\n",
       "  </tbody>\n",
       "</table>\n",
       "</div>"
      ],
      "text/plain": [
       "               diff. list Mean(KNN) scaled  diff. list Var.(KNN) scaled\n",
       "1%_saleprice                      0.000000                 0.000000e+00\n",
       "5%_saleprice                      0.000026                 2.134350e-08\n",
       "10%_saleprice                     0.000032                 1.417383e-08"
      ]
     },
     "execution_count": 397,
     "metadata": {},
     "output_type": "execute_result"
    }
   ],
   "source": [
    "df_knn_saleprice_scaled"
   ]
  },
  {
   "cell_type": "markdown",
   "id": "c984dc69-f85f-4f1b-8c94-4afb48c1c8db",
   "metadata": {},
   "source": [
    "### Perform MEAN imputation"
   ]
  },
  {
   "cell_type": "code",
   "execution_count": 398,
   "id": "008bc14f-45e7-42d8-b843-2fee7bcf26c2",
   "metadata": {},
   "outputs": [],
   "source": [
    "df_saleprice2 = df_saleprice.copy(deep=True)\n",
    "df_saleprice_scaled2 = df_saleprice_scaled.copy(deep=True)"
   ]
  },
  {
   "cell_type": "code",
   "execution_count": 399,
   "id": "bd71dc1a-f137-46ed-bf2b-f3d87fd4b6a0",
   "metadata": {},
   "outputs": [
    {
     "name": "stdout",
     "output_type": "stream",
     "text": [
      "                           column_name  percent_missing\n",
      "SalePrice                    SalePrice              0.0\n",
      "sp_copy_1_percent    sp_copy_1_percent              1.0\n",
      "sp_copy_5_percent    sp_copy_5_percent              5.0\n",
      "sp_copy_10_percent  sp_copy_10_percent             10.0\n"
     ]
    }
   ],
   "source": [
    "print(get_percent_missing(df_saleprice2))"
   ]
  },
  {
   "cell_type": "code",
   "execution_count": 400,
   "id": "46237cfd-6361-466f-b66f-32f5940149d6",
   "metadata": {},
   "outputs": [
    {
     "name": "stdout",
     "output_type": "stream",
     "text": [
      "                           column_name  percent_missing\n",
      "SalePrice                    SalePrice              0.0\n",
      "sp_copy_1_percent    sp_copy_1_percent              1.0\n",
      "sp_copy_5_percent    sp_copy_5_percent              5.0\n",
      "sp_copy_10_percent  sp_copy_10_percent             10.0\n"
     ]
    }
   ],
   "source": [
    "print(get_percent_missing(df_saleprice_scaled2))"
   ]
  },
  {
   "cell_type": "markdown",
   "id": "64465299-5620-47b9-a28d-afb5494f279e",
   "metadata": {},
   "source": [
    "#### Impute Mean values in missing for saleprice and saleprice_scaled"
   ]
  },
  {
   "cell_type": "code",
   "execution_count": 401,
   "id": "28cf6b75-eebf-4758-94ec-4b3536f2c659",
   "metadata": {},
   "outputs": [],
   "source": [
    "df_saleprice2['sp_copy_1_percent'] = df_saleprice2['sp_copy_1_percent'].fillna(df_saleprice2['sp_copy_1_percent'].mean())\n",
    "df_saleprice2['sp_copy_5_percent'] = df_saleprice2['sp_copy_5_percent'].fillna(df_saleprice2['sp_copy_5_percent'].mean())\n",
    "df_saleprice2['sp_copy_10_percent'] = df_saleprice2['sp_copy_10_percent'].fillna(df_saleprice2['sp_copy_10_percent'].mean())"
   ]
  },
  {
   "cell_type": "code",
   "execution_count": 402,
   "id": "2409dd8c-3cd0-4742-b0ac-14dea1fdb504",
   "metadata": {},
   "outputs": [],
   "source": [
    "df_saleprice_scaled2['sp_copy_1_percent'] = df_saleprice_scaled2['sp_copy_1_percent'].fillna(df_saleprice_scaled2['sp_copy_1_percent'].mean())\n",
    "df_saleprice_scaled2['sp_copy_5_percent'] = df_saleprice_scaled2['sp_copy_5_percent'].fillna(df_saleprice_scaled2['sp_copy_5_percent'].mean())\n",
    "df_saleprice_scaled2['sp_copy_10_percent'] = df_saleprice_scaled2['sp_copy_10_percent'].fillna(df_saleprice_scaled2['sp_copy_10_percent'].mean())"
   ]
  },
  {
   "cell_type": "markdown",
   "id": "62377754-b682-45e5-8faa-1a4a186bd3c7",
   "metadata": {},
   "source": [
    "#### After MEAN imputation - Saleprice and saleprice scaled"
   ]
  },
  {
   "cell_type": "code",
   "execution_count": 403,
   "id": "6c448556-55f4-4685-aed2-6b67d5ad8a2a",
   "metadata": {},
   "outputs": [
    {
     "name": "stdout",
     "output_type": "stream",
     "text": [
      "                           column_name  percent_missing\n",
      "SalePrice                    SalePrice              0.0\n",
      "sp_copy_1_percent    sp_copy_1_percent              0.0\n",
      "sp_copy_5_percent    sp_copy_5_percent              0.0\n",
      "sp_copy_10_percent  sp_copy_10_percent              0.0\n"
     ]
    }
   ],
   "source": [
    "print(get_percent_missing(df_saleprice2))"
   ]
  },
  {
   "cell_type": "code",
   "execution_count": 404,
   "id": "d9775fbf-7a72-4352-b446-488e9d25b6a2",
   "metadata": {},
   "outputs": [
    {
     "name": "stdout",
     "output_type": "stream",
     "text": [
      "                           column_name  percent_missing\n",
      "SalePrice                    SalePrice              0.0\n",
      "sp_copy_1_percent    sp_copy_1_percent              0.0\n",
      "sp_copy_5_percent    sp_copy_5_percent              0.0\n",
      "sp_copy_10_percent  sp_copy_10_percent              0.0\n"
     ]
    }
   ],
   "source": [
    "print(get_percent_missing(df_saleprice_scaled2))"
   ]
  },
  {
   "cell_type": "code",
   "execution_count": 407,
   "id": "136f87e6-a4af-4229-b36a-695f712deee5",
   "metadata": {},
   "outputs": [
    {
     "data": {
      "text/html": [
       "<div>\n",
       "<style scoped>\n",
       "    .dataframe tbody tr th:only-of-type {\n",
       "        vertical-align: middle;\n",
       "    }\n",
       "\n",
       "    .dataframe tbody tr th {\n",
       "        vertical-align: top;\n",
       "    }\n",
       "\n",
       "    .dataframe thead th {\n",
       "        text-align: right;\n",
       "    }\n",
       "</style>\n",
       "<table border=\"1\" class=\"dataframe\">\n",
       "  <thead>\n",
       "    <tr style=\"text-align: right;\">\n",
       "      <th></th>\n",
       "      <th>SalePrice</th>\n",
       "      <th>sp_copy_1_percent</th>\n",
       "      <th>sp_copy_5_percent</th>\n",
       "      <th>sp_copy_10_percent</th>\n",
       "    </tr>\n",
       "  </thead>\n",
       "  <tbody>\n",
       "    <tr>\n",
       "      <th>571</th>\n",
       "      <td>120000</td>\n",
       "      <td>120000.0</td>\n",
       "      <td>120000.000000</td>\n",
       "      <td>182343.817778</td>\n",
       "    </tr>\n",
       "    <tr>\n",
       "      <th>2</th>\n",
       "      <td>223500</td>\n",
       "      <td>223500.0</td>\n",
       "      <td>223500.000000</td>\n",
       "      <td>223500.000000</td>\n",
       "    </tr>\n",
       "    <tr>\n",
       "      <th>313</th>\n",
       "      <td>375000</td>\n",
       "      <td>375000.0</td>\n",
       "      <td>375000.000000</td>\n",
       "      <td>375000.000000</td>\n",
       "    </tr>\n",
       "    <tr>\n",
       "      <th>377</th>\n",
       "      <td>340000</td>\n",
       "      <td>340000.0</td>\n",
       "      <td>182457.342105</td>\n",
       "      <td>182343.817778</td>\n",
       "    </tr>\n",
       "    <tr>\n",
       "      <th>987</th>\n",
       "      <td>395192</td>\n",
       "      <td>395192.0</td>\n",
       "      <td>395192.000000</td>\n",
       "      <td>395192.000000</td>\n",
       "    </tr>\n",
       "  </tbody>\n",
       "</table>\n",
       "</div>"
      ],
      "text/plain": [
       "     SalePrice  sp_copy_1_percent  sp_copy_5_percent  sp_copy_10_percent\n",
       "571     120000           120000.0      120000.000000       182343.817778\n",
       "2       223500           223500.0      223500.000000       223500.000000\n",
       "313     375000           375000.0      375000.000000       375000.000000\n",
       "377     340000           340000.0      182457.342105       182343.817778\n",
       "987     395192           395192.0      395192.000000       395192.000000"
      ]
     },
     "execution_count": 407,
     "metadata": {},
     "output_type": "execute_result"
    }
   ],
   "source": [
    "df_saleprice2.sample(5)"
   ]
  },
  {
   "cell_type": "code",
   "execution_count": 409,
   "id": "784cb61c-78f8-4b31-b709-379c50024dca",
   "metadata": {},
   "outputs": [
    {
     "data": {
      "text/html": [
       "<div>\n",
       "<style scoped>\n",
       "    .dataframe tbody tr th:only-of-type {\n",
       "        vertical-align: middle;\n",
       "    }\n",
       "\n",
       "    .dataframe tbody tr th {\n",
       "        vertical-align: top;\n",
       "    }\n",
       "\n",
       "    .dataframe thead th {\n",
       "        text-align: right;\n",
       "    }\n",
       "</style>\n",
       "<table border=\"1\" class=\"dataframe\">\n",
       "  <thead>\n",
       "    <tr style=\"text-align: right;\">\n",
       "      <th></th>\n",
       "      <th>SalePrice</th>\n",
       "      <th>sp_copy_1_percent</th>\n",
       "      <th>sp_copy_5_percent</th>\n",
       "      <th>sp_copy_10_percent</th>\n",
       "    </tr>\n",
       "  </thead>\n",
       "  <tbody>\n",
       "    <tr>\n",
       "      <th>216</th>\n",
       "      <td>0.243161</td>\n",
       "      <td>0.243161</td>\n",
       "      <td>0.243161</td>\n",
       "      <td>0.243161</td>\n",
       "    </tr>\n",
       "    <tr>\n",
       "      <th>1</th>\n",
       "      <td>0.203583</td>\n",
       "      <td>0.203583</td>\n",
       "      <td>0.203583</td>\n",
       "      <td>0.203583</td>\n",
       "    </tr>\n",
       "    <tr>\n",
       "      <th>575</th>\n",
       "      <td>0.116095</td>\n",
       "      <td>0.116095</td>\n",
       "      <td>0.116095</td>\n",
       "      <td>0.116095</td>\n",
       "    </tr>\n",
       "    <tr>\n",
       "      <th>397</th>\n",
       "      <td>0.186918</td>\n",
       "      <td>0.186918</td>\n",
       "      <td>0.186918</td>\n",
       "      <td>0.205253</td>\n",
       "    </tr>\n",
       "    <tr>\n",
       "      <th>703</th>\n",
       "      <td>0.145952</td>\n",
       "      <td>0.145952</td>\n",
       "      <td>0.145952</td>\n",
       "      <td>0.145952</td>\n",
       "    </tr>\n",
       "  </tbody>\n",
       "</table>\n",
       "</div>"
      ],
      "text/plain": [
       "     SalePrice  sp_copy_1_percent  sp_copy_5_percent  sp_copy_10_percent\n",
       "216   0.243161           0.243161           0.243161            0.243161\n",
       "1     0.203583           0.203583           0.203583            0.203583\n",
       "575   0.116095           0.116095           0.116095            0.116095\n",
       "397   0.186918           0.186918           0.186918            0.205253\n",
       "703   0.145952           0.145952           0.145952            0.145952"
      ]
     },
     "execution_count": 409,
     "metadata": {},
     "output_type": "execute_result"
    }
   ],
   "source": [
    "df_saleprice_scaled2.sample(5)"
   ]
  },
  {
   "cell_type": "markdown",
   "id": "33c1f3b7-5afc-45cb-8b43-9682ec87156d",
   "metadata": {},
   "source": [
    "#### Create List of differences for saleprice and saleprice_scaled Dataframes"
   ]
  },
  {
   "cell_type": "code",
   "execution_count": 410,
   "id": "d2faf410-f83e-4ccb-89d4-e6f8c7adffbb",
   "metadata": {},
   "outputs": [],
   "source": [
    "# create list of difference bwtween imputed and orginal value\n",
    "\n",
    "sp_mean_diff_1 = []\n",
    "sp_mean_diff_5 = []\n",
    "sp_mean_diff_10 = []\n",
    "count = 0\n",
    "\n",
    "for i in sp_1_idx:\n",
    "    count +=1\n",
    "    diff1 = abs(df_saleprice2['sp_copy_1_percent'][i] - df_saleprice2['SalePrice'][i])\n",
    "    sp_mean_diff_1.append(diff1)\n",
    "    \n",
    "\n",
    "for i in sp_5_idx:\n",
    "    diff5 = abs(df_saleprice2['sp_copy_5_percent'][i] - df_saleprice2['SalePrice'][i])\n",
    "    sp_mean_diff_5.append(diff5)\n",
    "\n",
    "for i in sp_10_idx:\n",
    "    diff10 = abs(df_saleprice2['sp_copy_10_percent'][i] - df_saleprice2['SalePrice'][i])\n",
    "    sp_mean_diff_10.append(diff10)"
   ]
  },
  {
   "cell_type": "code",
   "execution_count": 411,
   "id": "789b07c5-530a-4111-8c97-f5297f7da5e4",
   "metadata": {},
   "outputs": [
    {
     "name": "stdout",
     "output_type": "stream",
     "text": [
      "10\n",
      "50\n",
      "100\n"
     ]
    }
   ],
   "source": [
    "print(len(sp_mean_diff_1))\n",
    "print(len(sp_mean_diff_5))\n",
    "print(len(sp_mean_diff_10))"
   ]
  },
  {
   "cell_type": "code",
   "execution_count": 412,
   "id": "4fec222c-2420-41af-9e2a-d9773e1d6259",
   "metadata": {},
   "outputs": [],
   "source": [
    "# create list of difference bwtween imputed and orginal value\n",
    "\n",
    "sp_scaled_mean_diff_1 = []\n",
    "sp_scaled_mean_diff_5 = []\n",
    "sp_scaled_mean_diff_10 = []\n",
    "count = 0\n",
    "\n",
    "for i in sp_1_idx:\n",
    "    count +=1\n",
    "    diff1 = abs(df_saleprice_scaled2['sp_copy_1_percent'][i] - df_saleprice_scaled2['SalePrice'][i])\n",
    "    sp_scaled_mean_diff_1.append(diff1)\n",
    "    \n",
    "\n",
    "for i in sp_5_idx:\n",
    "    diff5 = abs(df_saleprice_scaled2['sp_copy_5_percent'][i] - df_saleprice_scaled2['SalePrice'][i])\n",
    "    sp_scaled_mean_diff_5.append(diff5)\n",
    "\n",
    "for i in sp_10_idx:\n",
    "    diff10 = abs(df_saleprice_scaled2['sp_copy_10_percent'][i] - df_saleprice_scaled2['SalePrice'][i])\n",
    "    sp_scaled_mean_diff_10.append(diff10)"
   ]
  },
  {
   "cell_type": "code",
   "execution_count": 413,
   "id": "de9bf1de-68fe-4894-915a-7069b386123f",
   "metadata": {},
   "outputs": [
    {
     "name": "stdout",
     "output_type": "stream",
     "text": [
      "10\n",
      "50\n",
      "100\n"
     ]
    }
   ],
   "source": [
    "print(len(sp_scaled_mean_diff_1))\n",
    "print(len(sp_scaled_mean_diff_5))\n",
    "print(len(sp_scaled_mean_diff_10))"
   ]
  },
  {
   "cell_type": "markdown",
   "id": "f7b93757-d1a7-41a1-85fa-3ee77734be5b",
   "metadata": {},
   "source": [
    "#### Calculate mean and var of list of diff. - MEAN impute SalePrice"
   ]
  },
  {
   "cell_type": "code",
   "execution_count": 414,
   "id": "c60d3aad-33f0-48f4-8bb0-f8af45e33e1e",
   "metadata": {},
   "outputs": [
    {
     "name": "stdout",
     "output_type": "stream",
     "text": [
      "The mean of 1% is 55971.63676767676 and varience 1% is 1103367192.190047\n",
      "The mean of 5% is 58478.24210526314 and varience 5% is 3139731297.2794733\n",
      "The mean of 10% is 58478.24210526314 and varience 10% is 3846674638.263318\n"
     ]
    }
   ],
   "source": [
    "m1 = sum(sp_mean_diff_1) / len(sp_mean_diff_1)\n",
    "\n",
    "# calculate variance using a list comprehension\n",
    "var_res1 = sum((xi - m1) ** 2 for xi in sp_mean_diff_1) / len(sp_mean_diff_1)\n",
    "\n",
    "m5 = sum(sp_mean_diff_5) / len(sp_mean_diff_5)\n",
    "\n",
    "# calculate variance using a list comprehension\n",
    "var_res5 = sum((xii - m5) ** 2 for xii in sp_mean_diff_5) / len(sp_mean_diff_5)\n",
    "\n",
    "\n",
    "m10 = sum(sp_mean_diff_10) / len(sp_mean_diff_10)\n",
    "\n",
    "# calculate variance using a list comprehension\n",
    "var_res10 = sum((xiii - m10) ** 2 for xiii in sp_mean_diff_10) / len(sp_mean_diff_10)\n",
    "\n",
    "print(f\"The mean of 1% is {m1} and varience 1% is {var_res1}\")\n",
    "print(f\"The mean of 5% is {m5} and varience 5% is {var_res5}\")\n",
    "print(f\"The mean of 10% is {m5} and varience 10% is {var_res10}\")"
   ]
  },
  {
   "cell_type": "code",
   "execution_count": 415,
   "id": "e7f6e5cf-4eaa-4bfe-add2-fc7f600941b7",
   "metadata": {},
   "outputs": [],
   "source": [
    "df_mean_saleprice = pd.DataFrame.from_dict({'1%_saleprice': [m1, var_res1],\n",
    " '5%_saleprice': [m5, var_res5],\n",
    " '10%_saleprice': [m10, var_res10]}, orient='index')\n",
    "df_mean_saleprice.columns=['diff. list Mean(MI)', 'diff. list Var.(MI)']"
   ]
  },
  {
   "cell_type": "code",
   "execution_count": 416,
   "id": "cc37eeaf-e3cd-4a83-870d-fab7037eeffe",
   "metadata": {},
   "outputs": [
    {
     "data": {
      "text/html": [
       "<div>\n",
       "<style scoped>\n",
       "    .dataframe tbody tr th:only-of-type {\n",
       "        vertical-align: middle;\n",
       "    }\n",
       "\n",
       "    .dataframe tbody tr th {\n",
       "        vertical-align: top;\n",
       "    }\n",
       "\n",
       "    .dataframe thead th {\n",
       "        text-align: right;\n",
       "    }\n",
       "</style>\n",
       "<table border=\"1\" class=\"dataframe\">\n",
       "  <thead>\n",
       "    <tr style=\"text-align: right;\">\n",
       "      <th></th>\n",
       "      <th>diff. list Mean(MI)</th>\n",
       "      <th>diff. list Var.(MI)</th>\n",
       "    </tr>\n",
       "  </thead>\n",
       "  <tbody>\n",
       "    <tr>\n",
       "      <th>1%_saleprice</th>\n",
       "      <td>55971.636768</td>\n",
       "      <td>1.103367e+09</td>\n",
       "    </tr>\n",
       "    <tr>\n",
       "      <th>5%_saleprice</th>\n",
       "      <td>58478.242105</td>\n",
       "      <td>3.139731e+09</td>\n",
       "    </tr>\n",
       "    <tr>\n",
       "      <th>10%_saleprice</th>\n",
       "      <td>61028.709911</td>\n",
       "      <td>3.846675e+09</td>\n",
       "    </tr>\n",
       "  </tbody>\n",
       "</table>\n",
       "</div>"
      ],
      "text/plain": [
       "               diff. list Mean(MI)  diff. list Var.(MI)\n",
       "1%_saleprice          55971.636768         1.103367e+09\n",
       "5%_saleprice          58478.242105         3.139731e+09\n",
       "10%_saleprice         61028.709911         3.846675e+09"
      ]
     },
     "execution_count": 416,
     "metadata": {},
     "output_type": "execute_result"
    }
   ],
   "source": [
    "df_mean_saleprice"
   ]
  },
  {
   "cell_type": "markdown",
   "id": "f405f073-1b45-47e8-873b-7a9d34ad0e5c",
   "metadata": {},
   "source": [
    "#### Calculate mean and var of list of diff. - MEAN impute SalePrice scaled"
   ]
  },
  {
   "cell_type": "code",
   "execution_count": 417,
   "id": "2516b4f7-6b79-4636-9bd5-0738343ea355",
   "metadata": {},
   "outputs": [
    {
     "name": "stdout",
     "output_type": "stream",
     "text": [
      "The mean of 1% is 0.0 and varience 1% is 0.0\n",
      "The mean of 5% is 0.00893610697344667 and varience 5% is 0.0014044730755095036\n",
      "The mean of 10% is 0.00893610697344667 and varience 10% is 0.0004431848362889144\n"
     ]
    }
   ],
   "source": [
    "m1 = sum(sp_scaled_mean_diff_1) / len(sp_scaled_mean_diff_1)\n",
    "\n",
    "# calculate variance using a list comprehension\n",
    "var_res1 = sum((xi - m1) ** 2 for xi in sp_scaled_mean_diff_1) / len(sp_scaled_mean_diff_1)\n",
    "\n",
    "m5 = sum(sp_scaled_mean_diff_5) / len(sp_scaled_mean_diff_5)\n",
    "\n",
    "# calculate variance using a list comprehension\n",
    "var_res5 = sum((xii - m5) ** 2 for xii in sp_scaled_mean_diff_5) / len(sp_scaled_mean_diff_5)\n",
    "\n",
    "\n",
    "m10 = sum(sp_scaled_mean_diff_10) / len(sp_scaled_mean_diff_10)\n",
    "\n",
    "# calculate variance using a list comprehension\n",
    "var_res10 = sum((xiii - m10) ** 2 for xiii in sp_scaled_mean_diff_10) / len(sp_scaled_mean_diff_10)\n",
    "\n",
    "print(f\"The mean of 1% is {m1} and varience 1% is {var_res1}\")\n",
    "print(f\"The mean of 5% is {m5} and varience 5% is {var_res5}\")\n",
    "print(f\"The mean of 10% is {m5} and varience 10% is {var_res10}\")"
   ]
  },
  {
   "cell_type": "code",
   "execution_count": 418,
   "id": "fe6a93b8-d6cb-4d7d-856b-ab4ee8fe78fc",
   "metadata": {},
   "outputs": [],
   "source": [
    "df_mean_saleprice_scaled = pd.DataFrame.from_dict({'1%_saleprice_scaled': [m1, var_res1],\n",
    " '5%_saleprice_scaled': [m5, var_res5],\n",
    " '10%_saleprice_scaled': [m10, var_res10]}, orient='index')\n",
    "df_mean_saleprice_scaled.columns=['diff. list Mean(MI) scaled', 'diff. list Var.(MI) scaled']"
   ]
  },
  {
   "cell_type": "code",
   "execution_count": 419,
   "id": "e74c35ed-7c2d-44ab-b6c2-4d81c2c6b6bb",
   "metadata": {},
   "outputs": [
    {
     "data": {
      "text/html": [
       "<div>\n",
       "<style scoped>\n",
       "    .dataframe tbody tr th:only-of-type {\n",
       "        vertical-align: middle;\n",
       "    }\n",
       "\n",
       "    .dataframe tbody tr th {\n",
       "        vertical-align: top;\n",
       "    }\n",
       "\n",
       "    .dataframe thead th {\n",
       "        text-align: right;\n",
       "    }\n",
       "</style>\n",
       "<table border=\"1\" class=\"dataframe\">\n",
       "  <thead>\n",
       "    <tr style=\"text-align: right;\">\n",
       "      <th></th>\n",
       "      <th>diff. list Mean(MI) scaled</th>\n",
       "      <th>diff. list Var.(MI) scaled</th>\n",
       "    </tr>\n",
       "  </thead>\n",
       "  <tbody>\n",
       "    <tr>\n",
       "      <th>1%_saleprice_scaled</th>\n",
       "      <td>0.000000</td>\n",
       "      <td>0.000000</td>\n",
       "    </tr>\n",
       "    <tr>\n",
       "      <th>5%_saleprice_scaled</th>\n",
       "      <td>0.008936</td>\n",
       "      <td>0.001404</td>\n",
       "    </tr>\n",
       "    <tr>\n",
       "      <th>10%_saleprice_scaled</th>\n",
       "      <td>0.007492</td>\n",
       "      <td>0.000443</td>\n",
       "    </tr>\n",
       "  </tbody>\n",
       "</table>\n",
       "</div>"
      ],
      "text/plain": [
       "                      diff. list Mean(MI) scaled  diff. list Var.(MI) scaled\n",
       "1%_saleprice_scaled                     0.000000                    0.000000\n",
       "5%_saleprice_scaled                     0.008936                    0.001404\n",
       "10%_saleprice_scaled                    0.007492                    0.000443"
      ]
     },
     "execution_count": 419,
     "metadata": {},
     "output_type": "execute_result"
    }
   ],
   "source": [
    "df_mean_saleprice_scaled"
   ]
  },
  {
   "cell_type": "markdown",
   "id": "876b979a-f5c4-43a7-9ead-d5d866bef078",
   "metadata": {},
   "source": [
    "# 2.2 Housing Data Results - KNN and MEAN"
   ]
  },
  {
   "cell_type": "code",
   "execution_count": 420,
   "id": "fea4b521-03a3-46ce-b217-27225eb868af",
   "metadata": {},
   "outputs": [],
   "source": [
    "results1 = pd.concat([df_knn_saleprice, df_knn_saleprice_scaled, df_mean_saleprice, df_mean_saleprice_scaled])"
   ]
  },
  {
   "cell_type": "code",
   "execution_count": 421,
   "id": "631729d6-e853-4ba5-b5fd-4e632ec00d5f",
   "metadata": {},
   "outputs": [
    {
     "data": {
      "text/html": [
       "<div>\n",
       "<style scoped>\n",
       "    .dataframe tbody tr th:only-of-type {\n",
       "        vertical-align: middle;\n",
       "    }\n",
       "\n",
       "    .dataframe tbody tr th {\n",
       "        vertical-align: top;\n",
       "    }\n",
       "\n",
       "    .dataframe thead th {\n",
       "        text-align: right;\n",
       "    }\n",
       "</style>\n",
       "<table border=\"1\" class=\"dataframe\">\n",
       "  <thead>\n",
       "    <tr style=\"text-align: right;\">\n",
       "      <th></th>\n",
       "      <th>diff. list Mean(KNN)</th>\n",
       "      <th>diff. list Var.(KNN)</th>\n",
       "      <th>diff. list Mean(KNN) scaled</th>\n",
       "      <th>diff. list Var.(KNN) scaled</th>\n",
       "      <th>diff. list Mean(MI)</th>\n",
       "      <th>diff. list Var.(MI)</th>\n",
       "      <th>diff. list Mean(MI) scaled</th>\n",
       "      <th>diff. list Var.(MI) scaled</th>\n",
       "    </tr>\n",
       "  </thead>\n",
       "  <tbody>\n",
       "    <tr>\n",
       "      <th>1%_saleprice</th>\n",
       "      <td>170.000</td>\n",
       "      <td>4.240000e+04</td>\n",
       "      <td>NaN</td>\n",
       "      <td>NaN</td>\n",
       "      <td>NaN</td>\n",
       "      <td>NaN</td>\n",
       "      <td>NaN</td>\n",
       "      <td>NaN</td>\n",
       "    </tr>\n",
       "    <tr>\n",
       "      <th>5%_saleprice</th>\n",
       "      <td>444.944</td>\n",
       "      <td>2.554554e+06</td>\n",
       "      <td>NaN</td>\n",
       "      <td>NaN</td>\n",
       "      <td>NaN</td>\n",
       "      <td>NaN</td>\n",
       "      <td>NaN</td>\n",
       "      <td>NaN</td>\n",
       "    </tr>\n",
       "    <tr>\n",
       "      <th>10%_saleprice</th>\n",
       "      <td>564.784</td>\n",
       "      <td>6.304767e+06</td>\n",
       "      <td>NaN</td>\n",
       "      <td>NaN</td>\n",
       "      <td>NaN</td>\n",
       "      <td>NaN</td>\n",
       "      <td>NaN</td>\n",
       "      <td>NaN</td>\n",
       "    </tr>\n",
       "    <tr>\n",
       "      <th>1%_saleprice</th>\n",
       "      <td>NaN</td>\n",
       "      <td>NaN</td>\n",
       "      <td>0.000000</td>\n",
       "      <td>0.000000e+00</td>\n",
       "      <td>NaN</td>\n",
       "      <td>NaN</td>\n",
       "      <td>NaN</td>\n",
       "      <td>NaN</td>\n",
       "    </tr>\n",
       "    <tr>\n",
       "      <th>5%_saleprice</th>\n",
       "      <td>NaN</td>\n",
       "      <td>NaN</td>\n",
       "      <td>0.000026</td>\n",
       "      <td>2.134350e-08</td>\n",
       "      <td>NaN</td>\n",
       "      <td>NaN</td>\n",
       "      <td>NaN</td>\n",
       "      <td>NaN</td>\n",
       "    </tr>\n",
       "    <tr>\n",
       "      <th>10%_saleprice</th>\n",
       "      <td>NaN</td>\n",
       "      <td>NaN</td>\n",
       "      <td>0.000032</td>\n",
       "      <td>1.417383e-08</td>\n",
       "      <td>NaN</td>\n",
       "      <td>NaN</td>\n",
       "      <td>NaN</td>\n",
       "      <td>NaN</td>\n",
       "    </tr>\n",
       "    <tr>\n",
       "      <th>1%_saleprice</th>\n",
       "      <td>NaN</td>\n",
       "      <td>NaN</td>\n",
       "      <td>NaN</td>\n",
       "      <td>NaN</td>\n",
       "      <td>55971.636768</td>\n",
       "      <td>1.103367e+09</td>\n",
       "      <td>NaN</td>\n",
       "      <td>NaN</td>\n",
       "    </tr>\n",
       "    <tr>\n",
       "      <th>5%_saleprice</th>\n",
       "      <td>NaN</td>\n",
       "      <td>NaN</td>\n",
       "      <td>NaN</td>\n",
       "      <td>NaN</td>\n",
       "      <td>58478.242105</td>\n",
       "      <td>3.139731e+09</td>\n",
       "      <td>NaN</td>\n",
       "      <td>NaN</td>\n",
       "    </tr>\n",
       "    <tr>\n",
       "      <th>10%_saleprice</th>\n",
       "      <td>NaN</td>\n",
       "      <td>NaN</td>\n",
       "      <td>NaN</td>\n",
       "      <td>NaN</td>\n",
       "      <td>61028.709911</td>\n",
       "      <td>3.846675e+09</td>\n",
       "      <td>NaN</td>\n",
       "      <td>NaN</td>\n",
       "    </tr>\n",
       "    <tr>\n",
       "      <th>1%_saleprice_scaled</th>\n",
       "      <td>NaN</td>\n",
       "      <td>NaN</td>\n",
       "      <td>NaN</td>\n",
       "      <td>NaN</td>\n",
       "      <td>NaN</td>\n",
       "      <td>NaN</td>\n",
       "      <td>0.000000</td>\n",
       "      <td>0.000000</td>\n",
       "    </tr>\n",
       "    <tr>\n",
       "      <th>5%_saleprice_scaled</th>\n",
       "      <td>NaN</td>\n",
       "      <td>NaN</td>\n",
       "      <td>NaN</td>\n",
       "      <td>NaN</td>\n",
       "      <td>NaN</td>\n",
       "      <td>NaN</td>\n",
       "      <td>0.008936</td>\n",
       "      <td>0.001404</td>\n",
       "    </tr>\n",
       "    <tr>\n",
       "      <th>10%_saleprice_scaled</th>\n",
       "      <td>NaN</td>\n",
       "      <td>NaN</td>\n",
       "      <td>NaN</td>\n",
       "      <td>NaN</td>\n",
       "      <td>NaN</td>\n",
       "      <td>NaN</td>\n",
       "      <td>0.007492</td>\n",
       "      <td>0.000443</td>\n",
       "    </tr>\n",
       "  </tbody>\n",
       "</table>\n",
       "</div>"
      ],
      "text/plain": [
       "                      diff. list Mean(KNN)  diff. list Var.(KNN)  \\\n",
       "1%_saleprice                       170.000          4.240000e+04   \n",
       "5%_saleprice                       444.944          2.554554e+06   \n",
       "10%_saleprice                      564.784          6.304767e+06   \n",
       "1%_saleprice                           NaN                   NaN   \n",
       "5%_saleprice                           NaN                   NaN   \n",
       "10%_saleprice                          NaN                   NaN   \n",
       "1%_saleprice                           NaN                   NaN   \n",
       "5%_saleprice                           NaN                   NaN   \n",
       "10%_saleprice                          NaN                   NaN   \n",
       "1%_saleprice_scaled                    NaN                   NaN   \n",
       "5%_saleprice_scaled                    NaN                   NaN   \n",
       "10%_saleprice_scaled                   NaN                   NaN   \n",
       "\n",
       "                      diff. list Mean(KNN) scaled  \\\n",
       "1%_saleprice                                  NaN   \n",
       "5%_saleprice                                  NaN   \n",
       "10%_saleprice                                 NaN   \n",
       "1%_saleprice                             0.000000   \n",
       "5%_saleprice                             0.000026   \n",
       "10%_saleprice                            0.000032   \n",
       "1%_saleprice                                  NaN   \n",
       "5%_saleprice                                  NaN   \n",
       "10%_saleprice                                 NaN   \n",
       "1%_saleprice_scaled                           NaN   \n",
       "5%_saleprice_scaled                           NaN   \n",
       "10%_saleprice_scaled                          NaN   \n",
       "\n",
       "                      diff. list Var.(KNN) scaled  diff. list Mean(MI)  \\\n",
       "1%_saleprice                                  NaN                  NaN   \n",
       "5%_saleprice                                  NaN                  NaN   \n",
       "10%_saleprice                                 NaN                  NaN   \n",
       "1%_saleprice                         0.000000e+00                  NaN   \n",
       "5%_saleprice                         2.134350e-08                  NaN   \n",
       "10%_saleprice                        1.417383e-08                  NaN   \n",
       "1%_saleprice                                  NaN         55971.636768   \n",
       "5%_saleprice                                  NaN         58478.242105   \n",
       "10%_saleprice                                 NaN         61028.709911   \n",
       "1%_saleprice_scaled                           NaN                  NaN   \n",
       "5%_saleprice_scaled                           NaN                  NaN   \n",
       "10%_saleprice_scaled                          NaN                  NaN   \n",
       "\n",
       "                      diff. list Var.(MI)  diff. list Mean(MI) scaled  \\\n",
       "1%_saleprice                          NaN                         NaN   \n",
       "5%_saleprice                          NaN                         NaN   \n",
       "10%_saleprice                         NaN                         NaN   \n",
       "1%_saleprice                          NaN                         NaN   \n",
       "5%_saleprice                          NaN                         NaN   \n",
       "10%_saleprice                         NaN                         NaN   \n",
       "1%_saleprice                 1.103367e+09                         NaN   \n",
       "5%_saleprice                 3.139731e+09                         NaN   \n",
       "10%_saleprice                3.846675e+09                         NaN   \n",
       "1%_saleprice_scaled                   NaN                    0.000000   \n",
       "5%_saleprice_scaled                   NaN                    0.008936   \n",
       "10%_saleprice_scaled                  NaN                    0.007492   \n",
       "\n",
       "                      diff. list Var.(MI) scaled  \n",
       "1%_saleprice                                 NaN  \n",
       "5%_saleprice                                 NaN  \n",
       "10%_saleprice                                NaN  \n",
       "1%_saleprice                                 NaN  \n",
       "5%_saleprice                                 NaN  \n",
       "10%_saleprice                                NaN  \n",
       "1%_saleprice                                 NaN  \n",
       "5%_saleprice                                 NaN  \n",
       "10%_saleprice                                NaN  \n",
       "1%_saleprice_scaled                     0.000000  \n",
       "5%_saleprice_scaled                     0.001404  \n",
       "10%_saleprice_scaled                    0.000443  "
      ]
     },
     "execution_count": 421,
     "metadata": {},
     "output_type": "execute_result"
    }
   ],
   "source": [
    "results1"
   ]
  },
  {
   "cell_type": "code",
   "execution_count": 422,
   "id": "a255c5bc-c062-4029-8f18-0c7644ca1d7c",
   "metadata": {},
   "outputs": [],
   "source": [
    "results1.to_csv('housing_data_saleprice_KNN_Mean_results.csv')"
   ]
  },
  {
   "cell_type": "code",
   "execution_count": null,
   "id": "c9b0060e-129c-465e-a2a5-c3113ac4b936",
   "metadata": {},
   "outputs": [],
   "source": []
  }
 ],
 "metadata": {
  "kernelspec": {
   "display_name": "pytorch_kz_env",
   "language": "python",
   "name": "pytorch_kz_env"
  },
  "language_info": {
   "codemirror_mode": {
    "name": "ipython",
    "version": 3
   },
   "file_extension": ".py",
   "mimetype": "text/x-python",
   "name": "python",
   "nbconvert_exporter": "python",
   "pygments_lexer": "ipython3",
   "version": "3.7.11"
  }
 },
 "nbformat": 4,
 "nbformat_minor": 5
}
